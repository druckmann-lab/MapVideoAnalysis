{
 "cells": [
  {
   "cell_type": "code",
   "execution_count": 1,
   "metadata": {},
   "outputs": [],
   "source": [
    "%load_ext autoreload\n",
    "%autoreload 2\n",
    "\n",
    "import matplotlib.pyplot as plt\n",
    "import numpy as np\n",
    "import pickle\n",
    "from sklearn.metrics import r2_score\n",
    "\n",
    "import sys\n",
    "import os"
   ]
  },
  {
   "cell_type": "code",
   "execution_count": 2,
   "metadata": {},
   "outputs": [
    {
     "data": {
      "text/plain": [
       "dict_keys(['train', 'test'])"
      ]
     },
     "execution_count": 2,
     "metadata": {},
     "output_type": "execute_result"
    }
   ],
   "source": [
    "filename = '/home/kurgyis/STANFORD/Druckmann/VideoAnalysis/data/SC065_20210511_11_train_test_split_inds.pickle'\n",
    "with open(filename, 'rb') as f:\n",
    "    train_test_split_inds = pickle.load(f)\n",
    "\n",
    "train_test_split_inds.keys()"
   ]
  },
  {
   "cell_type": "code",
   "execution_count": 6,
   "metadata": {},
   "outputs": [
    {
     "data": {
      "text/plain": [
       "16"
      ]
     },
     "execution_count": 6,
     "metadata": {},
     "output_type": "execute_result"
    }
   ],
   "source": [
    "train_inds = train_test_split_inds['train']\n",
    "min(train_inds)"
   ]
  },
  {
   "cell_type": "code",
   "execution_count": null,
   "metadata": {},
   "outputs": [],
   "source": []
  },
  {
   "cell_type": "code",
   "execution_count": 4,
   "metadata": {},
   "outputs": [
    {
     "name": "stdout",
     "output_type": "stream",
     "text": [
      "dict_keys(['train', 'test'])\n",
      "dict_keys(['fr', 'ccf-coordinate', 'ccf-label', 'ccf-unit_id', 'uid', 'bw', 'stride'])\n"
     ]
    }
   ],
   "source": [
    "datafolder = '/home/kurgyis/STANFORD/Druckmann/VideoAnalysis/data'\n",
    "\n",
    "fold_dict_path = 'SC035_20200108_34_train_test_split_inds.pickle'\n",
    "old_fr_path = 'SC035_010820-589-25000-a2-rightMedulla.pickle'\n",
    "\n",
    "with open(os.path.join(datafolder,fold_dict_path), 'rb') as f:\n",
    "    fold_dict = pickle.load(f)\n",
    "\n",
    "with open(os.path.join(datafolder, old_fr_path), 'rb') as f:\n",
    "    old_fr = pickle.load(f)\n",
    "\n",
    "print(fold_dict.keys())\n",
    "print(old_fr.keys())\n"
   ]
  },
  {
   "cell_type": "code",
   "execution_count": 22,
   "metadata": {},
   "outputs": [
    {
     "name": "stdout",
     "output_type": "stream",
     "text": [
      "['SC035_20200108_34_train_test_split_inds.pickle']\n"
     ]
    }
   ],
   "source": [
    "fold_files = [f for f in os.listdir(datafolder) if f.endswith('train_test_split_inds.pickle')]\n",
    "print(fold_files)"
   ]
  },
  {
   "cell_type": "code",
   "execution_count": 24,
   "metadata": {},
   "outputs": [
    {
     "name": "stdout",
     "output_type": "stream",
     "text": [
      "['SC035_010820-589-25000-a2-rightMedulla.pickle']\n"
     ]
    }
   ],
   "source": [
    "old_fr_files = [f for f in os.listdir(datafolder) if f.endswith('.pickle') and '25000' in f]\n",
    "print(old_fr_files)"
   ]
  },
  {
   "cell_type": "code",
   "execution_count": 26,
   "metadata": {},
   "outputs": [
    {
     "name": "stdout",
     "output_type": "stream",
     "text": [
      "['SC035_010820-589-25000-a2-rightMedulla.pickle']\n"
     ]
    }
   ],
   "source": [
    "fold_filename = fold_files[0]\n",
    "mouse_name = fold_filename.split('_')[0]\n",
    "date = fold_filename.split('_')[1]\n",
    "session_id = fold_filename.split('_')[2]\n",
    "\n",
    "short_date = date[4:6] + date[6:8] + date[2:4]\n",
    "\n",
    "old_fr_mouse_date_fnames = [f for f in old_fr_files if mouse_name in f and short_date in f]\n",
    "print(old_fr_mouse_date_fnames)"
   ]
  },
  {
   "cell_type": "code",
   "execution_count": 27,
   "metadata": {},
   "outputs": [
    {
     "name": "stdout",
     "output_type": "stream",
     "text": [
      "['SC035_010820-589-25000-a2-rightMedulla.pickle']\n"
     ]
    }
   ],
   "source": [
    "if '_s' in old_fr_mouse_date_fnames[0]:\n",
    "    old_fr_session_fnames = [f for f in old_fr_mouse_date_fnames if '_s%'%session_id in f]\n",
    "else:\n",
    "    old_fr_session_fnames = old_fr_mouse_date_fnames\n",
    "\n",
    "print(old_fr_session_fnames)"
   ]
  },
  {
   "cell_type": "code",
   "execution_count": null,
   "metadata": {},
   "outputs": [],
   "source": [
    "old_fr_session_fnames.sort()\n",
    "# only interested in trials so all brain regions are equally good\n",
    "old_fr_fname = old_fr_session_fnames[0]"
   ]
  },
  {
   "cell_type": "code",
   "execution_count": 6,
   "metadata": {},
   "outputs": [
    {
     "data": {
      "text/plain": [
       "{'train': ['SC-SC035-20200108-554',\n",
       "  'SC-SC035-20200108-576',\n",
       "  'SC-SC035-20200108-249',\n",
       "  'SC-SC035-20200108-219',\n",
       "  'SC-SC035-20200108-97',\n",
       "  'SC-SC035-20200108-388',\n",
       "  'SC-SC035-20200108-350',\n",
       "  'SC-SC035-20200108-195',\n",
       "  'SC-SC035-20200108-560',\n",
       "  'SC-SC035-20200108-321',\n",
       "  'SC-SC035-20200108-150',\n",
       "  'SC-SC035-20200108-135',\n",
       "  'SC-SC035-20200108-149',\n",
       "  'SC-SC035-20200108-286',\n",
       "  'SC-SC035-20200108-483',\n",
       "  'SC-SC035-20200108-371',\n",
       "  'SC-SC035-20200108-46',\n",
       "  'SC-SC035-20200108-109',\n",
       "  'SC-SC035-20200108-152',\n",
       "  'SC-SC035-20200108-640',\n",
       "  'SC-SC035-20200108-253',\n",
       "  'SC-SC035-20200108-602',\n",
       "  'SC-SC035-20200108-63',\n",
       "  'SC-SC035-20200108-122',\n",
       "  'SC-SC035-20200108-121',\n",
       "  'SC-SC035-20200108-561',\n",
       "  'SC-SC035-20200108-550',\n",
       "  'SC-SC035-20200108-220',\n",
       "  'SC-SC035-20200108-634',\n",
       "  'SC-SC035-20200108-223',\n",
       "  'SC-SC035-20200108-443',\n",
       "  'SC-SC035-20200108-259',\n",
       "  'SC-SC035-20200108-228',\n",
       "  'SC-SC035-20200108-119',\n",
       "  'SC-SC035-20200108-506',\n",
       "  'SC-SC035-20200108-99',\n",
       "  'SC-SC035-20200108-273',\n",
       "  'SC-SC035-20200108-460',\n",
       "  'SC-SC035-20200108-108',\n",
       "  'SC-SC035-20200108-524',\n",
       "  'SC-SC035-20200108-87',\n",
       "  'SC-SC035-20200108-462',\n",
       "  'SC-SC035-20200108-255',\n",
       "  'SC-SC035-20200108-49',\n",
       "  'SC-SC035-20200108-192',\n",
       "  'SC-SC035-20200108-43',\n",
       "  'SC-SC035-20200108-502',\n",
       "  'SC-SC035-20200108-490',\n",
       "  'SC-SC035-20200108-237',\n",
       "  'SC-SC035-20200108-380',\n",
       "  'SC-SC035-20200108-592',\n",
       "  'SC-SC035-20200108-377',\n",
       "  'SC-SC035-20200108-304',\n",
       "  'SC-SC035-20200108-405',\n",
       "  'SC-SC035-20200108-154',\n",
       "  'SC-SC035-20200108-300',\n",
       "  'SC-SC035-20200108-485',\n",
       "  'SC-SC035-20200108-493',\n",
       "  'SC-SC035-20200108-280',\n",
       "  'SC-SC035-20200108-352',\n",
       "  'SC-SC035-20200108-291',\n",
       "  'SC-SC035-20200108-224',\n",
       "  'SC-SC035-20200108-632',\n",
       "  'SC-SC035-20200108-209',\n",
       "  'SC-SC035-20200108-70',\n",
       "  'SC-SC035-20200108-309',\n",
       "  'SC-SC035-20200108-596',\n",
       "  'SC-SC035-20200108-557',\n",
       "  'SC-SC035-20200108-160',\n",
       "  'SC-SC035-20200108-138',\n",
       "  'SC-SC035-20200108-336',\n",
       "  'SC-SC035-20200108-116',\n",
       "  'SC-SC035-20200108-201',\n",
       "  'SC-SC035-20200108-144',\n",
       "  'SC-SC035-20200108-145',\n",
       "  'SC-SC035-20200108-41',\n",
       "  'SC-SC035-20200108-91',\n",
       "  'SC-SC035-20200108-140',\n",
       "  'SC-SC035-20200108-406',\n",
       "  'SC-SC035-20200108-400',\n",
       "  'SC-SC035-20200108-584',\n",
       "  'SC-SC035-20200108-204',\n",
       "  'SC-SC035-20200108-148',\n",
       "  'SC-SC035-20200108-80',\n",
       "  'SC-SC035-20200108-630',\n",
       "  'SC-SC035-20200108-379',\n",
       "  'SC-SC035-20200108-522',\n",
       "  'SC-SC035-20200108-319',\n",
       "  'SC-SC035-20200108-164',\n",
       "  'SC-SC035-20200108-197',\n",
       "  'SC-SC035-20200108-359',\n",
       "  'SC-SC035-20200108-531',\n",
       "  'SC-SC035-20200108-391',\n",
       "  'SC-SC035-20200108-86',\n",
       "  'SC-SC035-20200108-608',\n",
       "  'SC-SC035-20200108-88',\n",
       "  'SC-SC035-20200108-452',\n",
       "  'SC-SC035-20200108-156',\n",
       "  'SC-SC035-20200108-207',\n",
       "  'SC-SC035-20200108-551',\n",
       "  'SC-SC035-20200108-365',\n",
       "  'SC-SC035-20200108-386',\n",
       "  'SC-SC035-20200108-301',\n",
       "  'SC-SC035-20200108-555',\n",
       "  'SC-SC035-20200108-411',\n",
       "  'SC-SC035-20200108-75',\n",
       "  'SC-SC035-20200108-275',\n",
       "  'SC-SC035-20200108-618',\n",
       "  'SC-SC035-20200108-604',\n",
       "  'SC-SC035-20200108-276',\n",
       "  'SC-SC035-20200108-215',\n",
       "  'SC-SC035-20200108-528',\n",
       "  'SC-SC035-20200108-76',\n",
       "  'SC-SC035-20200108-363',\n",
       "  'SC-SC035-20200108-639',\n",
       "  'SC-SC035-20200108-198',\n",
       "  'SC-SC035-20200108-569',\n",
       "  'SC-SC035-20200108-25',\n",
       "  'SC-SC035-20200108-572',\n",
       "  'SC-SC035-20200108-216',\n",
       "  'SC-SC035-20200108-626',\n",
       "  'SC-SC035-20200108-294',\n",
       "  'SC-SC035-20200108-616',\n",
       "  'SC-SC035-20200108-482',\n",
       "  'SC-SC035-20200108-413',\n",
       "  'SC-SC035-20200108-415',\n",
       "  'SC-SC035-20200108-66',\n",
       "  'SC-SC035-20200108-139',\n",
       "  'SC-SC035-20200108-85',\n",
       "  'SC-SC035-20200108-552',\n",
       "  'SC-SC035-20200108-239',\n",
       "  'SC-SC035-20200108-57',\n",
       "  'SC-SC035-20200108-141',\n",
       "  'SC-SC035-20200108-316',\n",
       "  'SC-SC035-20200108-344',\n",
       "  'SC-SC035-20200108-268',\n",
       "  'SC-SC035-20200108-82',\n",
       "  'SC-SC035-20200108-403',\n",
       "  'SC-SC035-20200108-581',\n",
       "  'SC-SC035-20200108-523',\n",
       "  'SC-SC035-20200108-384',\n",
       "  'SC-SC035-20200108-60',\n",
       "  'SC-SC035-20200108-341',\n",
       "  'SC-SC035-20200108-170',\n",
       "  'SC-SC035-20200108-320',\n",
       "  'SC-SC035-20200108-515',\n",
       "  'SC-SC035-20200108-619',\n",
       "  'SC-SC035-20200108-176',\n",
       "  'SC-SC035-20200108-480',\n",
       "  'SC-SC035-20200108-230',\n",
       "  'SC-SC035-20200108-127',\n",
       "  'SC-SC035-20200108-342',\n",
       "  'SC-SC035-20200108-589',\n",
       "  'SC-SC035-20200108-535',\n",
       "  'SC-SC035-20200108-234',\n",
       "  'SC-SC035-20200108-381',\n",
       "  'SC-SC035-20200108-392',\n",
       "  'SC-SC035-20200108-343',\n",
       "  'SC-SC035-20200108-102',\n",
       "  'SC-SC035-20200108-625',\n",
       "  'SC-SC035-20200108-544',\n",
       "  'SC-SC035-20200108-437',\n",
       "  'SC-SC035-20200108-37',\n",
       "  'SC-SC035-20200108-457',\n",
       "  'SC-SC035-20200108-35',\n",
       "  'SC-SC035-20200108-179',\n",
       "  'SC-SC035-20200108-44',\n",
       "  'SC-SC035-20200108-194',\n",
       "  'SC-SC035-20200108-426',\n",
       "  'SC-SC035-20200108-177',\n",
       "  'SC-SC035-20200108-110',\n",
       "  'SC-SC035-20200108-494',\n",
       "  'SC-SC035-20200108-425',\n",
       "  'SC-SC035-20200108-394',\n",
       "  'SC-SC035-20200108-158',\n",
       "  'SC-SC035-20200108-399',\n",
       "  'SC-SC035-20200108-23',\n",
       "  'SC-SC035-20200108-114',\n",
       "  'SC-SC035-20200108-541',\n",
       "  'SC-SC035-20200108-267',\n",
       "  'SC-SC035-20200108-166',\n",
       "  'SC-SC035-20200108-128',\n",
       "  'SC-SC035-20200108-129',\n",
       "  'SC-SC035-20200108-279',\n",
       "  'SC-SC035-20200108-17',\n",
       "  'SC-SC035-20200108-464',\n",
       "  'SC-SC035-20200108-448',\n",
       "  'SC-SC035-20200108-18',\n",
       "  'SC-SC035-20200108-501',\n",
       "  'SC-SC035-20200108-101',\n",
       "  'SC-SC035-20200108-284',\n",
       "  'SC-SC035-20200108-337',\n",
       "  'SC-SC035-20200108-165',\n",
       "  'SC-SC035-20200108-410',\n",
       "  'SC-SC035-20200108-96',\n",
       "  'SC-SC035-20200108-65',\n",
       "  'SC-SC035-20200108-408',\n",
       "  'SC-SC035-20200108-548',\n",
       "  'SC-SC035-20200108-373',\n",
       "  'SC-SC035-20200108-575',\n",
       "  'SC-SC035-20200108-310',\n",
       "  'SC-SC035-20200108-513',\n",
       "  'SC-SC035-20200108-536',\n",
       "  'SC-SC035-20200108-409',\n",
       "  'SC-SC035-20200108-422',\n",
       "  'SC-SC035-20200108-505',\n",
       "  'SC-SC035-20200108-226',\n",
       "  'SC-SC035-20200108-507',\n",
       "  'SC-SC035-20200108-570',\n",
       "  'SC-SC035-20200108-231',\n",
       "  'SC-SC035-20200108-498',\n",
       "  'SC-SC035-20200108-206',\n",
       "  'SC-SC035-20200108-218',\n",
       "  'SC-SC035-20200108-315',\n",
       "  'SC-SC035-20200108-539',\n",
       "  'SC-SC035-20200108-579',\n",
       "  'SC-SC035-20200108-190',\n",
       "  'SC-SC035-20200108-326',\n",
       "  'SC-SC035-20200108-416',\n",
       "  'SC-SC035-20200108-520',\n",
       "  'SC-SC035-20200108-471',\n",
       "  'SC-SC035-20200108-628',\n",
       "  'SC-SC035-20200108-558',\n",
       "  'SC-SC035-20200108-532',\n",
       "  'SC-SC035-20200108-366',\n",
       "  'SC-SC035-20200108-24',\n",
       "  'SC-SC035-20200108-202',\n",
       "  'SC-SC035-20200108-52',\n",
       "  'SC-SC035-20200108-451',\n",
       "  'SC-SC035-20200108-332',\n",
       "  'SC-SC035-20200108-243',\n",
       "  'SC-SC035-20200108-545',\n",
       "  'SC-SC035-20200108-178',\n",
       "  'SC-SC035-20200108-173',\n",
       "  'SC-SC035-20200108-254',\n",
       "  'SC-SC035-20200108-242',\n",
       "  'SC-SC035-20200108-143',\n",
       "  'SC-SC035-20200108-274',\n",
       "  'SC-SC035-20200108-442',\n",
       "  'SC-SC035-20200108-609',\n",
       "  'SC-SC035-20200108-397',\n",
       "  'SC-SC035-20200108-225',\n",
       "  'SC-SC035-20200108-327',\n",
       "  'SC-SC035-20200108-511',\n",
       "  'SC-SC035-20200108-50',\n",
       "  'SC-SC035-20200108-436',\n",
       "  'SC-SC035-20200108-637',\n",
       "  'SC-SC035-20200108-504',\n",
       "  'SC-SC035-20200108-238',\n",
       "  'SC-SC035-20200108-188',\n",
       "  'SC-SC035-20200108-445',\n",
       "  'SC-SC035-20200108-136',\n",
       "  'SC-SC035-20200108-67',\n",
       "  'SC-SC035-20200108-68',\n",
       "  'SC-SC035-20200108-246',\n",
       "  'SC-SC035-20200108-95',\n",
       "  'SC-SC035-20200108-74',\n",
       "  'SC-SC035-20200108-612',\n",
       "  'SC-SC035-20200108-421',\n",
       "  'SC-SC035-20200108-621',\n",
       "  'SC-SC035-20200108-590',\n",
       "  'SC-SC035-20200108-21',\n",
       "  'SC-SC035-20200108-247',\n",
       "  'SC-SC035-20200108-245',\n",
       "  'SC-SC035-20200108-521',\n",
       "  'SC-SC035-20200108-324',\n",
       "  'SC-SC035-20200108-583',\n",
       "  'SC-SC035-20200108-171',\n",
       "  'SC-SC035-20200108-64',\n",
       "  'SC-SC035-20200108-638',\n",
       "  'SC-SC035-20200108-283',\n",
       "  'SC-SC035-20200108-364',\n",
       "  'SC-SC035-20200108-563',\n",
       "  'SC-SC035-20200108-446',\n",
       "  'SC-SC035-20200108-42',\n",
       "  'SC-SC035-20200108-478',\n",
       "  'SC-SC035-20200108-598',\n",
       "  'SC-SC035-20200108-317',\n",
       "  'SC-SC035-20200108-314',\n",
       "  'SC-SC035-20200108-146',\n",
       "  'SC-SC035-20200108-20',\n",
       "  'SC-SC035-20200108-282',\n",
       "  'SC-SC035-20200108-600',\n",
       "  'SC-SC035-20200108-349',\n",
       "  'SC-SC035-20200108-571',\n",
       "  'SC-SC035-20200108-262',\n",
       "  'SC-SC035-20200108-383',\n",
       "  'SC-SC035-20200108-429',\n",
       "  'SC-SC035-20200108-36',\n",
       "  'SC-SC035-20200108-378',\n",
       "  'SC-SC035-20200108-11',\n",
       "  'SC-SC035-20200108-401',\n",
       "  'SC-SC035-20200108-181',\n",
       "  'SC-SC035-20200108-105',\n",
       "  'SC-SC035-20200108-463',\n",
       "  'SC-SC035-20200108-193',\n",
       "  'SC-SC035-20200108-423',\n",
       "  'SC-SC035-20200108-251',\n",
       "  'SC-SC035-20200108-623',\n",
       "  'SC-SC035-20200108-404',\n",
       "  'SC-SC035-20200108-419',\n",
       "  'SC-SC035-20200108-393',\n",
       "  'SC-SC035-20200108-510',\n",
       "  'SC-SC035-20200108-367',\n",
       "  'SC-SC035-20200108-556',\n",
       "  'SC-SC035-20200108-593',\n",
       "  'SC-SC035-20200108-479',\n",
       "  'SC-SC035-20200108-221',\n",
       "  'SC-SC035-20200108-601',\n",
       "  'SC-SC035-20200108-629',\n",
       "  'SC-SC035-20200108-113',\n",
       "  'SC-SC035-20200108-106',\n",
       "  'SC-SC035-20200108-389',\n",
       "  'SC-SC035-20200108-120',\n",
       "  'SC-SC035-20200108-90',\n",
       "  'SC-SC035-20200108-329',\n",
       "  'SC-SC035-20200108-244',\n",
       "  'SC-SC035-20200108-232',\n",
       "  'SC-SC035-20200108-78',\n",
       "  'SC-SC035-20200108-376',\n",
       "  'SC-SC035-20200108-356',\n",
       "  'SC-SC035-20200108-567',\n",
       "  'SC-SC035-20200108-12',\n",
       "  'SC-SC035-20200108-131',\n",
       "  'SC-SC035-20200108-45',\n",
       "  'SC-SC035-20200108-519',\n",
       "  'SC-SC035-20200108-205',\n",
       "  'SC-SC035-20200108-281'],\n",
       " 'val': ['SC-SC035-20200108-606',\n",
       "  'SC-SC035-20200108-587',\n",
       "  'SC-SC035-20200108-27',\n",
       "  'SC-SC035-20200108-162',\n",
       "  'SC-SC035-20200108-322',\n",
       "  'SC-SC035-20200108-89',\n",
       "  'SC-SC035-20200108-438',\n",
       "  'SC-SC035-20200108-562',\n",
       "  'SC-SC035-20200108-334',\n",
       "  'SC-SC035-20200108-187',\n",
       "  'SC-SC035-20200108-159',\n",
       "  'SC-SC035-20200108-450',\n",
       "  'SC-SC035-20200108-168',\n",
       "  'SC-SC035-20200108-475',\n",
       "  'SC-SC035-20200108-161',\n",
       "  'SC-SC035-20200108-174',\n",
       "  'SC-SC035-20200108-260',\n",
       "  'SC-SC035-20200108-325',\n",
       "  'SC-SC035-20200108-633',\n",
       "  'SC-SC035-20200108-227',\n",
       "  'SC-SC035-20200108-499',\n",
       "  'SC-SC035-20200108-418',\n",
       "  'SC-SC035-20200108-627',\n",
       "  'SC-SC035-20200108-306',\n",
       "  'SC-SC035-20200108-211',\n",
       "  'SC-SC035-20200108-104',\n",
       "  'SC-SC035-20200108-514',\n",
       "  'SC-SC035-20200108-13',\n",
       "  'SC-SC035-20200108-428',\n",
       "  'SC-SC035-20200108-47',\n",
       "  'SC-SC035-20200108-435',\n",
       "  'SC-SC035-20200108-454'],\n",
       " 'test': ['SC-SC035-20200108-351',\n",
       "  'SC-SC035-20200108-56',\n",
       "  'SC-SC035-20200108-305',\n",
       "  'SC-SC035-20200108-526',\n",
       "  'SC-SC035-20200108-361',\n",
       "  'SC-SC035-20200108-543',\n",
       "  'SC-SC035-20200108-26',\n",
       "  'SC-SC035-20200108-302',\n",
       "  'SC-SC035-20200108-607',\n",
       "  'SC-SC035-20200108-466',\n",
       "  'SC-SC035-20200108-236',\n",
       "  'SC-SC035-20200108-530',\n",
       "  'SC-SC035-20200108-213',\n",
       "  'SC-SC035-20200108-495',\n",
       "  'SC-SC035-20200108-157',\n",
       "  'SC-SC035-20200108-299',\n",
       "  'SC-SC035-20200108-217',\n",
       "  'SC-SC035-20200108-566',\n",
       "  'SC-SC035-20200108-369',\n",
       "  'SC-SC035-20200108-258',\n",
       "  'SC-SC035-20200108-355',\n",
       "  'SC-SC035-20200108-124',\n",
       "  'SC-SC035-20200108-573',\n",
       "  'SC-SC035-20200108-492',\n",
       "  'SC-SC035-20200108-440',\n",
       "  'SC-SC035-20200108-233',\n",
       "  'SC-SC035-20200108-191',\n",
       "  'SC-SC035-20200108-340',\n",
       "  'SC-SC035-20200108-167',\n",
       "  'SC-SC035-20200108-48',\n",
       "  'SC-SC035-20200108-491',\n",
       "  'SC-SC035-20200108-631']}"
      ]
     },
     "execution_count": 6,
     "metadata": {},
     "output_type": "execute_result"
    }
   ],
   "source": [
    "old_fr['uid']"
   ]
  },
  {
   "cell_type": "code",
   "execution_count": 7,
   "metadata": {},
   "outputs": [],
   "source": [
    "def get_raw_inds_for_old_fr(old_fr_file):\n",
    "    trial_strings = []\n",
    "    folds = old_fr['uid'].keys()\n",
    "    for fold in folds:\n",
    "        trial_strings += old_fr['uid'][fold]\n",
    "\n",
    "    raw_inds = [int(trial_string.split('-')[-1])-1 for trial_string in trial_strings]\n",
    "    return raw_inds"
   ]
  },
  {
   "cell_type": "code",
   "execution_count": 8,
   "metadata": {},
   "outputs": [],
   "source": [
    "old_raw_inds = get_raw_inds_for_old_fr(old_fr)"
   ]
  },
  {
   "cell_type": "code",
   "execution_count": 14,
   "metadata": {},
   "outputs": [
    {
     "data": {
      "text/plain": [
       "559"
      ]
     },
     "execution_count": 14,
     "metadata": {},
     "output_type": "execute_result"
    }
   ],
   "source": [
    "old_raw_inds.pop(np.where(np.array(old_raw_inds) == fold_dict['test'][0])[0][0])"
   ]
  },
  {
   "cell_type": "code",
   "execution_count": 15,
   "metadata": {},
   "outputs": [
    {
     "name": "stdout",
     "output_type": "stream",
     "text": [
      "[559] [386]\n"
     ]
    }
   ],
   "source": [
    "test_not_in_old = [i for i in fold_dict['test'] if i not in old_raw_inds]\n",
    "train_not_in_old = [i for i in fold_dict['train'] if i not in old_raw_inds]\n",
    "print(test_not_in_old, train_not_in_old)"
   ]
  },
  {
   "cell_type": "code",
   "execution_count": 16,
   "metadata": {},
   "outputs": [
    {
     "data": {
      "text/plain": [
       "numpy.ndarray"
      ]
     },
     "execution_count": 16,
     "metadata": {},
     "output_type": "execute_result"
    }
   ],
   "source": [
    "type(fold_dict['test'])"
   ]
  },
  {
   "cell_type": "code",
   "execution_count": 17,
   "metadata": {},
   "outputs": [],
   "source": [
    "test_in_old = [i for i in fold_dict['test'] if i in old_raw_inds]\n",
    "train_in_old = [i for i in fold_dict['train'] if i in old_raw_inds]\n",
    "\n",
    "missing_test = 64 - len(test_in_old)\n",
    "\n",
    "for i in range(missing_test):\n",
    "    ind = np.random.randint(0,len(train_not_in_old))\n",
    "    test_in_old.append(train_in_old[ind])\n",
    "    train_in_old.pop(ind)\n",
    "\n"
   ]
  },
  {
   "cell_type": "code",
   "execution_count": 18,
   "metadata": {},
   "outputs": [
    {
     "data": {
      "text/plain": [
       "64"
      ]
     },
     "execution_count": 18,
     "metadata": {},
     "output_type": "execute_result"
    }
   ],
   "source": [
    "len(test_in_old)"
   ]
  },
  {
   "cell_type": "code",
   "execution_count": 19,
   "metadata": {},
   "outputs": [
    {
     "data": {
      "text/plain": [
       "327"
      ]
     },
     "execution_count": 19,
     "metadata": {},
     "output_type": "execute_result"
    }
   ],
   "source": [
    "len(train_in_old)"
   ]
  },
  {
   "cell_type": "code",
   "execution_count": 21,
   "metadata": {},
   "outputs": [
    {
     "data": {
      "text/plain": [
       "329"
      ]
     },
     "execution_count": 21,
     "metadata": {},
     "output_type": "execute_result"
    }
   ],
   "source": [
    "len(fold_dict['train'])"
   ]
  },
  {
   "cell_type": "code",
   "execution_count": 28,
   "metadata": {},
   "outputs": [
    {
     "name": "stdout",
     "output_type": "stream",
     "text": [
      "dict_keys(['train', 'test'])\n",
      "64\n"
     ]
    }
   ],
   "source": [
    "with open(os.path.join(datafolder, 'SC043_20200924_26_train_test_split_inds.pickle'), 'rb') as f:\n",
    "    fold_dict = pickle.load(f)\n",
    "\n",
    "print(fold_dict.keys())\n",
    "print(len(fold_dict['test']))"
   ]
  },
  {
   "cell_type": "code",
   "execution_count": null,
   "metadata": {},
   "outputs": [],
   "source": []
  }
 ],
 "metadata": {
  "kernelspec": {
   "display_name": "Python 3",
   "language": "python",
   "name": "python3"
  },
  "language_info": {
   "codemirror_mode": {
    "name": "ipython",
    "version": 3
   },
   "file_extension": ".py",
   "mimetype": "text/x-python",
   "name": "python",
   "nbconvert_exporter": "python",
   "pygments_lexer": "ipython3",
   "version": "3.8.10"
  }
 },
 "nbformat": 4,
 "nbformat_minor": 2
}
