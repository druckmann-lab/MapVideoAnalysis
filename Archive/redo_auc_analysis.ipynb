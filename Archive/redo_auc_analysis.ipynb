{
 "cells": [
  {
   "cell_type": "markdown",
   "metadata": {},
   "source": [
    "# Redo fig6 analysis for new dataset\n",
    "\n",
    "Would like to recreate the analysis for Fig6, but don't want to rerun all the video prediction stuff, so we need:\n",
    "- obtain single trial level lick predictions from embedding from Aiden\n",
    "- use these to split trials into categories\n",
    "- rerun the binary classification using these trial labels"
   ]
  },
  {
   "cell_type": "code",
   "execution_count": 2,
   "metadata": {},
   "outputs": [],
   "source": [
    "%load_ext autoreload\n",
    "%autoreload 2\n",
    "\n",
    "import numpy as np\n",
    "import matplotlib.pyplot as plt\n",
    "from mpl_toolkits.mplot3d import axes3d, Axes3D\n",
    "import pandas as pd\n",
    "import pickle\n",
    "import ccf_analysis_utils\n",
    "import functions as func\n",
    "import os"
   ]
  },
  {
   "cell_type": "code",
   "execution_count": 2,
   "metadata": {},
   "outputs": [],
   "source": [
    "auc_data = pickle.load(open('../data/auc_analysis.pickle', 'rb'))"
   ]
  },
  {
   "cell_type": "code",
   "execution_count": 3,
   "metadata": {},
   "outputs": [],
   "source": [
    "gh_info, sess_info, sess_info_marker, sub_gh_info = auc_data"
   ]
  },
  {
   "cell_type": "code",
   "execution_count": 4,
   "metadata": {},
   "outputs": [
    {
     "data": {
      "text/plain": [
       "dict_keys(['SC026_080519-521-25000-a1-leftALM', 'SC026_080519-521-25000-a2-rightALM', 'SC026_080519-521-25000-a3-rightMidbrain', 'SC026_080519-521-25000-a4-leftThalamus', 'SC026_080619-522-25000-a1-leftALM', 'SC026_080619-522-25000-a2-rightALM', 'SC026_080619-522-25000-a3-rightMidbrain', 'SC026_080619-522-25000-a4-leftThalamus', 'SC026_080819-523-25000-a1-leftALM', 'SC026_080819-523-25000-a3-rightMidbrain', 'SC026_080819-523-25000-a4-leftThalamus', 'SC027_072919-524-25000-a2-leftMidbrain', 'SC027_072919-524-25000-a3-rightMidbrain', 'SC027_073019-525-25000-a1-leftALM', 'SC027_073019-525-25000-a2-rightALM', 'SC027_073019-525-25000-a3-leftMidbrain', 'SC027_073019-525-25000-a4-rightMidbrain', 'SC027_073119-526-25000-a1-leftALM', 'SC027_073119-526-25000-a2-rightALM', 'SC027_073119-526-25000-a3-leftMidbrain', 'SC027_073119-526-25000-a4-rightMidbrain', 'SC027_080119-527-25000-a1-leftALM', 'SC027_080119-527-25000-a2-leftMidbrain', 'SC027_080119-527-25000-a3-rightMidbrain', 'SC027_080319-528-25000-a1-leftStriatum', 'SC027_080319-528-25000-a2-rightStriatum', 'SC027_080319-528-25000-a3-leftThalamus', 'SC027_080319-528-25000-a4-rightThalamus', 'SC027_080419-529-25000-a1-leftStriatum', 'SC027_080419-529-25000-a2-rightStriatum', 'SC027_080419-529-25000-a3-leftThalamus', 'SC027_080419-529-25000-a4-rightThalamus', 'SC030_100319-530-25000-a1-leftMedulla', 'SC030_100319-530-25000-a2-rightMedulla', 'SC030_100419-541-25000-a1-leftALM', 'SC030_100419-541-25000-a2-rightALM', 'SC030_100419-541-25000-a3-leftMedulla', 'SC030_100419-541-25000-a4-rightMedulla', 'SC030_100519-542-25000-a1-leftALM', 'SC030_100519-542-25000-a2-rightALM', 'SC030_100519-542-25000-a3-leftMedulla', 'SC030_100519-542-25000-a4-rightMedulla', 'SC031_102119-543-25000-a1-leftALM', 'SC031_102119-543-25000-a2-rightALM', 'SC031_102119-543-25000-a3-leftMedulla', 'SC031_102119-543-25000-a4-rightMedulla', 'SC031_102319-544-25000-a2-leftMedulla', 'SC031_102319-544-25000-a3-rightMedulla', 'SC032_121819-545-25000-a1-leftALM', 'SC032_121819-545-25000-a2-rightMedulla', 'SC032_121819-545-25000-a3-leftMidbrain', 'SC032_121919-556-25000-a2-leftMedulla', 'SC032_121919-556-25000-a3-rightMidbrain', 'SC032_121919-556-25000-a4-rightThalamus', 'SC032_122019-557-25000-a1-rightALM', 'SC032_122019-557-25000-a2-leftMedulla', 'SC032_122019-557-25000-a3-rightThalamus', 'SC033_111319-585-25000-a1-leftALM', 'SC033_111319-585-25000-a2-rightMedulla', 'SC033_111319-585-25000-a3-leftMidbrain', 'SC033_111419-586-25000-a2-leftMedulla', 'SC033_111419-586-25000-a3-rightMidbrain', 'SC033_111519-587-25000-a1-rightALM', 'SC033_111519-587-25000-a2-leftMedulla', 'SC033_111519-587-25000-a3-rightMidbrain', 'SC035_010720-588-25000-a1-leftALM', 'SC035_010720-588-25000-a2-rightMedulla', 'SC035_010720-588-25000-a3-leftMidbrain', 'SC035_010820-589-25000-a2-rightMedulla', 'SC035_010820-589-25000-a3-leftMidbrain', 'SC035_010920-590-25000-a2-leftMedulla', 'SC035_010920-590-25000-a3-rightMidbrain', 'SC035_011020-609-25000-a2-leftMedulla', 'SC035_011020-609-25000-a3-rightMidbrain', 'SC038_111919_s4-610-25000-a1-leftALM', 'SC038_111919_s4-610-25000-a2-leftMidbrain', 'SC038_111919_s4-610-25000-a3-rightMidbrain', 'SC038_111919_s5-611-25000-a1-leftALM', 'SC038_111919_s5-611-25000-a2-leftMidbrain', 'SC038_111919_s5-611-25000-a3-rightMidbrain', 'SC038_112019_s6-612-25000-a1-leftALM', 'SC038_112019_s6-612-25000-a2-leftMidbrain', 'SC038_112019_s6-612-25000-a3-rightMidbrain', 'SC038_112019_s7-613-25000-a1-leftALM', 'SC038_112019_s7-613-25000-a2-leftMidbrain', 'SC038_112019_s7-613-25000-a3-rightMidbrain', 'SC038_112119_s8-614-25000-a1-rightALM', 'SC038_112119_s8-614-25000-a2-leftThalamus', 'SC038_112119_s8-614-25000-a3-rightThalamus', 'SC038_112119_s9-628-25000-a1-rightALM', 'SC038_112119_s9-628-25000-a2-leftThalamus', 'SC038_112119_s9-628-25000-a3-rightThalamus', 'SC038_112219_s10-632-25000-a1-rightALM', 'SC038_112219_s10-632-25000-a2-leftThalamus', 'SC038_112219_s10-632-25000-a3-rightThalamus', 'SC038_112219_s11-633-25000-a1-rightALM', 'SC038_112219_s11-633-25000-a2-leftThalamus', 'SC038_112219_s11-633-25000-a3-rightThalamus', 'SC038_112319_s12-636-25000-a1-leftALM', 'SC038_112319_s12-636-25000-a2-leftStriatum', 'SC038_112319_s12-636-25000-a3-rightStriatum', 'SC038_112319_s13-637-25000-a1-leftALM', 'SC038_112319_s13-637-25000-a2-leftStriatum', 'SC038_112319_s13-637-25000-a3-rightStriatum', 'SC043_092220-638-25000-a1-rightALM', 'SC043_092220-638-25000-a2-leftMedulla', 'SC043_092220-638-25000-a3-rightMedulla', 'SC043_092320-648-25000-a1-leftALM', 'SC043_092320-648-25000-a2-rightALM', 'SC043_092320-648-25000-a3-leftMedulla', 'SC043_092320-648-25000-a4-rightMedulla', 'SC043_092420-649-25000-a3-leftMedulla', 'SC043_092420-649-25000-a4-rightMedulla', 'SC043_092520-650-25000-a1-leftALM', 'SC043_092520-650-25000-a3-leftMidbrain', 'SC043_092520-650-25000-a4-rightMidbrain', 'SC045_121020-651-25000-a1-leftALM', 'SC045_121020-651-25000-a3-leftStriatum', 'SC045_121020-651-25000-a4-rightStriatum', 'SC045_121120-652-25000-a3-leftStriatum', 'SC045_121120-652-25000-a4-rightStriatum', 'SC045_121420-653-25000-a1-leftMidbrain', 'SC045_121420-653-25000-a2-rightMidbrain', 'SC045_121420-653-25000-a3-leftStriatum', 'SC045_121420-653-25000-a4-rightStriatum', 'SC045_121720-658-25000-a1-leftMidbrain', 'SC045_121720-658-25000-a3-leftThalamus', 'SC045_121820-659-25000-a1-leftMidbrain', 'SC045_121820-659-25000-a2-leftThalamus', 'SC045_121820-659-25000-a3-rightThalamus', 'SC048_010121-660-25000-a2-leftStriatum', 'SC048_010121-660-25000-a3-leftThalamus', 'SC048_010321-661-25000-a1-leftMidbrain', 'SC048_010321-661-25000-a2-rightMidbrain', 'SC048_010421-662-25000-a1-leftMidbrain', 'SC048_010421-662-25000-a2-rightMidbrain', 'SC048_122520-663-25000-a2-rightMidbrain', 'SC048_122520-663-25000-a3-leftThalamus', 'SC048_122620-664-25000-a1-leftALM', 'SC048_122620-664-25000-a3-leftStriatum', 'SC048_122620-664-25000-a4-leftThalamus', 'SC048_122620-664-25000-a5-rightThalamus', 'SC048_122920-665-25000-a2-leftStriatum', 'SC048_122920-665-25000-a3-rightStriatum', 'SC048_122920-665-25000-a4-leftThalamus', 'SC048_122920-665-25000-a5-rightThalamus', 'SC048_123020-666-25000-a2-rightALM', 'SC048_123020-666-25000-a4-leftThalamus', 'SC048_123020-666-25000-a5-rightThalamus', 'SC048_123120-667-25000-a1-leftMidbrain', 'SC048_123120-667-25000-a2-leftStriatum', 'SC048_123120-667-25000-a3-leftThalamus', 'SC049_010721-668-25000-a1-rightMidbrain', 'SC049_010721-668-25000-a2-leftStriatum', 'SC049_010721-668-25000-a3-rightStriatum', 'SC049_010821-669-25000-a1-rightMidbrain', 'SC049_010821-669-25000-a2-leftStriatum', 'SC049_010821-669-25000-a3-rightStriatum', 'SC049_010821-669-25000-a4-rightThalamus', 'SC049_011021-670-25000-a1-leftALM', 'SC049_011021-670-25000-a2-rightALM', 'SC049_011021-670-25000-a3-leftStriatum', 'SC049_011121-671-25000-a1-leftALM', 'SC049_011121-671-25000-a2-rightALM', 'SC049_011121-671-25000-a3-leftStriatum', 'SC049_011121-671-25000-a4-rightStriatum', 'SC049_011221-672-25000-a2-leftThalamus', 'SC049_011221-672-25000-a3-rightThalamus', 'SC049_011321-673-25000-a1-leftALM', 'SC049_011321-673-25000-a3-leftThalamus', 'SC049_011321-673-25000-a4-rightThalamus', 'SC050_022521-591-25000-a1-leftALM', 'SC050_022521-591-25000-a3-leftThalamus', 'SC050_022521-591-25000-a4-rightThalamus', 'SC050_022621-592-25000-a1-leftALM', 'SC050_022621-592-25000-a3-leftThalamus', 'SC050_022621-592-25000-a4-rightThalamus', 'SC050_022721-593-25000-a1-leftALM', 'SC050_022721-593-25000-a2-rightALM', 'SC050_022721-593-25000-a3-leftStriatum', 'SC050_022721-593-25000-a4-leftThalamus', 'SC050_022721-593-25000-a5-rightThalamus', 'SC050_030121-594-25000-a1-leftALM', 'SC050_030121-594-25000-a2-rightALM', 'SC050_030121-594-25000-a3-leftMidbrain', 'SC050_030121-594-25000-a4-leftStriatum', 'SC050_030121-594-25000-a5-rightStriatum', 'SC050_030121-594-25000-a6-leftThalamus', 'SC050_030221-595-25000-a1-leftALM', 'SC050_030221-595-25000-a2-rightALM', 'SC050_030221-595-25000-a3-leftMidbrain', 'SC050_030221-595-25000-a4-leftStriatum', 'SC050_030321-596-25000-a1-leftALM', 'SC050_030321-596-25000-a3-rightMidbrain', 'SC050_030321-596-25000-a4-leftStriatum', 'SC050_030321-596-25000-a5-rightStriatum', 'SC050_030421-597-25000-a1-rightMidbrain', 'SC050_030421-597-25000-a2-rightStriatum', 'SC052_012121-598-25000-a1-leftMidbrain', 'SC052_012121-598-25000-a2-rightMidbrain', 'SC052_012121-598-25000-a3-leftStriatum', 'SC052_012121-598-25000-a4-rightStriatum', 'SC052_012621-599-25000-a1-leftALM', 'SC052_012621-599-25000-a2-leftThalamus', 'SC052_012621-599-25000-a3-rightThalamus', 'SC053_022121-600-25000-a1-leftALM', 'SC053_022121-600-25000-a2-leftMidbrain', 'SC053_022121-600-25000-a3-leftThalamus', 'SC053_022221-601-25000-a1-leftALM', 'SC053_022221-601-25000-a2-leftMidbrain', 'SC053_022221-601-25000-a3-leftStriatum', 'SC053_022221-601-25000-a4-leftThalamus', 'SC053_022421-602-25000-a2-rightStriatum', 'SC053_022421-602-25000-a3-rightThalamus', 'SC053_022521-603-25000-a1-rightALM', 'SC053_022521-603-25000-a2-rightMidbrain', 'SC053_022521-603-25000-a3-rightStriatum', 'SC053_022521-603-25000-a4-rightThalamus', 'SC053_022621-604-25000-a1-rightALM', 'SC053_022621-604-25000-a3-rightThalamus', 'SC060_031921-605-25000-a2-leftMidbrain', 'SC060_031921-605-25000-a3-leftStriatum', 'SC060_032021-606-25000-a2-leftMidbrain', 'SC060_032021-606-25000-a3-leftThalamus', 'SC060_032221-607-25000-a1-rightALM', 'SC060_032221-607-25000-a2-rightMidbrain', 'SC060_032221-607-25000-a3-rightStriatum', 'SC060_032321-608-25000-a1-rightALM', 'SC060_032321-608-25000-a2-rightMidbrain', 'SC060_032321-608-25000-a3-rightStriatum', 'SC061_032121-615-25000-a1-rightALM', 'SC061_032121-615-25000-a2-rightMidbrain', 'SC061_032121-615-25000-a3-rightStriatum', 'SC061_032221-616-25000-a1-rightALM', 'SC061_032221-616-25000-a2-rightMidbrain', 'SC061_032221-616-25000-a3-rightStriatum', 'SC061_032321-617-25000-a1-rightALM', 'SC061_032321-617-25000-a2-leftStriatum', 'SC061_032321-617-25000-a4-leftThalamus', 'SC061_032321-617-25000-a5-rightThalamus', 'SC061_032421-618-25000-a1-rightALM', 'SC061_032421-618-25000-a4-leftThalamus', 'SC061_032421-618-25000-a5-rightThalamus', 'SC064_042721-619-25000-a1-leftALM', 'SC064_042721-619-25000-a2-leftMidbrain', 'SC064_042721-619-25000-a3-leftStriatum', 'SC064_042721-619-25000-a4-leftThalamus', 'SC064_042821-620-25000-a1-leftALM', 'SC064_042821-620-25000-a2-leftMidbrain', 'SC064_042821-620-25000-a3-leftStriatum', 'SC064_042821-620-25000-a4-leftThalamus', 'SC064_042921-621-25000-a1-leftALM', 'SC064_042921-621-25000-a2-leftMidbrain', 'SC064_042921-621-25000-a3-leftThalamus', 'SC064_043021-622-25000-a2-leftMidbrain', 'SC064_043021-622-25000-a3-leftStriatum', 'SC064_043021-622-25000-a4-leftThalamus', 'SC064_050421-623-25000-a1-rightALM', 'SC064_050421-623-25000-a3-rightStriatum', 'SC064_050621-624-25000-a2-rightMidbrain', 'SC064_050621-624-25000-a3-rightStriatum', 'SC064_050621-624-25000-a4-rightThalamus', 'SC064_050721-625-25000-a1-rightALM', 'SC064_050721-625-25000-a2-leftStriatum', 'SC064_050721-625-25000-a3-rightStriatum', 'SC064_050721-625-25000-a4-rightThalamus', 'SC064_050821-626-25000-a1-rightALM', 'SC064_050821-626-25000-a2-leftStriatum', 'SC064_050821-626-25000-a3-rightStriatum', 'SC064_050821-626-25000-a4-rightThalamus', 'SC065_050421-627-25000-a1-rightALM', 'SC065_050421-627-25000-a2-rightMidbrain', 'SC065_050421-627-25000-a3-rightStriatum', 'SC065_050621-629-25000-a2-rightMidbrain', 'SC065_050621-629-25000-a3-rightStriatum', 'SC065_050721-630-25000-a1-rightStriatum', 'SC065_050721-630-25000-a2-rightThalamus', 'SC065_050921-631-25000-a2-rightMidbrain', 'SC065_050921-631-25000-a3-rightStriatum', 'SC065_050921-631-25000-a4-rightThalamus', 'SC065_051021-634-25000-a2-leftMidbrain', 'SC065_051021-634-25000-a3-leftStriatum', 'SC065_051021-634-25000-a4-leftThalamus', 'SC065_051121-635-25000-a1-leftMidbrain', 'SC065_051121-635-25000-a2-leftStriatum', 'SC065_051321-639-25000-a1-leftMidbrain', 'SC065_051321-639-25000-a2-leftStriatum', 'SC065_051321-639-25000-a3-leftThalamus', 'SC065_051421-640-25000-a1-leftMidbrain', 'SC065_051421-640-25000-a2-leftStriatum', 'SC065_051421-640-25000-a3-leftThalamus', 'SC066_041421-641-25000-a1-leftALM', 'SC066_041421-641-25000-a2-rightMedulla', 'SC066_041421-641-25000-a3-leftMidbrain', 'SC066_041421-641-25000-a4-leftThalamus', 'SC066_041521-642-25000-a1-leftALM', 'SC066_041521-642-25000-a2-rightMedulla', 'SC066_041521-642-25000-a3-leftMidbrain', 'SC066_041521-642-25000-a4-leftStriatum', 'SC066_041621-643-25000-a1-leftALM', 'SC066_041621-643-25000-a3-leftMidbrain', 'SC066_041621-643-25000-a4-leftStriatum', 'SC066_042021-644-25000-a1-rightALM', 'SC066_042021-644-25000-a2-leftMedulla', 'SC066_042021-644-25000-a3-leftMidbrain', 'SC066_042021-644-25000-a4-rightMidbrain', 'SC066_042021-644-25000-a5-rightStriatum', 'SC066_042121-645-25000-a2-leftMedulla', 'SC066_042121-645-25000-a3-rightMidbrain', 'SC066_042121-645-25000-a4-rightStriatum', 'SC066_042121-645-25000-a5-rightThalamus', 'SC067_041321-646-25000-a2-rightMedulla', 'SC067_041321-646-25000-a3-leftMidbrain', 'SC067_041321-646-25000-a4-leftStriatum', 'SC067_041421-647-25000-a1-leftALM', 'SC067_041421-647-25000-a2-rightMedulla', 'SC067_041421-647-25000-a3-leftMidbrain', 'SC067_041421-647-25000-a4-leftStriatum', 'SC067_041521-654-25000-a1-leftALM', 'SC067_041521-654-25000-a2-rightMedulla', 'SC067_041521-654-25000-a3-leftMidbrain', 'SC067_041521-654-25000-a4-leftStriatum', 'SC067_041821-655-25000-a1-rightALM', 'SC067_041821-655-25000-a2-leftMedulla', 'SC067_041821-655-25000-a3-rightMidbrain', 'SC067_041821-655-25000-a4-rightStriatum', 'SC067_041921-656-25000-a2-leftMedulla', 'SC067_041921-656-25000-a3-rightMidbrain', 'SC067_041921-656-25000-a4-rightStriatum', 'SC067_042021-657-25000-a2-leftMedulla', 'SC067_042021-657-25000-a4-rightMidbrain', 'SC067_042021-657-25000-a5-rightStriatum', 'SC067_042021-657-25000-a6-rightThalamus', 'SC026_080519-521-25000-a11-leftOlfactory', 'SC026_080519-521-25000-a12-rightOlfactory', 'SC026_080519-521-25000-a5-rightPons', 'SC026_080519-521-25000-a6-leftHippocampus', 'SC026_080519-521-25000-a7-leftOrbital', 'SC026_080519-521-25000-a8-rightOrbital', 'SC026_080619-522-25000-a11-leftOlfactory', 'SC026_080619-522-25000-a12-rightOlfactory', 'SC026_080619-522-25000-a6-leftHippocampus', 'SC026_080619-522-25000-a7-leftOrbital', 'SC026_080619-522-25000-a8-rightOrbital', 'SC026_080819-523-25000-a5-rightPons', 'SC026_080819-523-25000-a7-leftHippocampus', 'SC026_080819-523-25000-a8-leftOrbital', 'SC026_080819-523-25000-a9-rightOrbital', 'SC027_072919-524-25000-a4-leftPons', 'SC027_072919-524-25000-a8-leftOlfactory', 'SC027_073019-525-25000-a11-leftOlfactory', 'SC027_073019-525-25000-a12-rightOlfactory', 'SC027_073019-525-25000-a5-leftPons', 'SC027_073019-525-25000-a7-leftOrbital', 'SC027_073019-525-25000-a8-rightOrbital', 'SC027_073119-526-25000-a11-leftOlfactory', 'SC027_073119-526-25000-a5-leftPons', 'SC027_073119-526-25000-a7-leftOrbital', 'SC027_073119-526-25000-a8-rightOrbital', 'SC027_080119-527-25000-a6-leftOrbital', 'SC027_080119-527-25000-a8-leftOlfactory', 'SC027_080319-528-25000-a5-leftHippocampus', 'SC027_080319-528-25000-a6-rightHippocampus', 'SC027_080319-528-25000-a8-leftPallidum', 'SC027_080319-528-25000-a9-rightPallidum', 'SC027_080419-529-25000-a5-leftHippocampus', 'SC027_080419-529-25000-a6-rightHippocampus', 'SC027_080419-529-25000-a9-rightPallidum', 'SC030_100319-530-25000-a12-rightOlfactory', 'SC030_100319-530-25000-a6-rightCerebellum', 'SC030_100419-541-25000-a5-leftCerebellum', 'SC030_100419-541-25000-a6-leftOrbital', 'SC030_100419-541-25000-a7-rightOrbital', 'SC030_100419-541-25000-a8-leftOlfactory', 'SC030_100419-541-25000-a9-rightOlfactory', 'SC030_100519-542-25000-a5-leftCerebellum', 'SC030_100519-542-25000-a6-leftOrbital', 'SC030_100519-542-25000-a7-rightOrbital', 'SC030_100519-542-25000-a8-leftOlfactory', 'SC030_100519-542-25000-a9-rightOlfactory', 'SC031_102119-543-25000-a10-leftOlfactory', 'SC031_102119-543-25000-a11-rightOlfactory', 'SC031_102119-543-25000-a5-leftCerebellum', 'SC031_102119-543-25000-a7-leftOrbital', 'SC031_102119-543-25000-a8-rightOrbital', 'SC032_121819-545-25000-a4-leftOrbital', 'SC032_121919-556-25000-a5-rightHypothalamus', 'SC032_121919-556-25000-a6-rightOrbital', 'SC032_122019-557-25000-a5-rightOrbital', 'SC033_111519-587-25000-a4-rightPons', 'SC035_010720-588-25000-a4-leftOrbital', 'SC035_010820-589-25000-a4-leftOrbital', 'SC035_010920-590-25000-a4-rightOrbital', 'SC035_011020-609-25000-a4-rightOrbital', 'SC038_111919_s4-610-25000-a4-leftHippocampus', 'SC038_111919_s4-610-25000-a5-rightHippocampus', 'SC038_112319_s12-636-25000-a4-leftOrbital', 'SC038_112319_s13-637-25000-a4-leftOrbital', 'SC043_092220-638-25000-a4-leftCerebellum', 'SC043_092220-638-25000-a5-rightCerebellum', 'SC043_092220-638-25000-a6-rightOrbital', 'SC043_092220-638-25000-a7-rightOlfactory', 'SC043_092320-648-25000-a5-leftCerebellum', 'SC043_092320-648-25000-a7-leftOrbital', 'SC043_092320-648-25000-a8-rightOrbital', 'SC043_092420-649-25000-a5-leftCerebellum', 'SC043_092420-649-25000-a6-rightCerebellum', 'SC043_092420-649-25000-a7-leftOrbital', 'SC043_092420-649-25000-a8-rightOrbital', 'SC043_092420-649-25000-a9-leftOlfactory', 'SC043_092520-650-25000-a10-leftOlfactory', 'SC043_092520-650-25000-a7-leftOrbital', 'SC043_092520-650-25000-a8-rightOrbital', 'SC045_121020-651-25000-a7-leftPallidum', 'SC045_121120-652-25000-a10-leftPallidum', 'SC045_121120-652-25000-a9-rightOlfactory', 'SC045_121420-653-25000-a5-leftHippocampus', 'SC045_121420-653-25000-a6-rightHippocampus', 'SC045_121420-653-25000-a9-leftCorticalSubplate', 'SC045_121720-658-25000-a4-leftHypothalamus', 'SC045_121720-658-25000-a5-rightHypothalamus', 'SC045_121820-659-25000-a5-rightHypothalamus', 'SC048_010121-660-25000-a4-leftHypothalamus', 'SC048_010121-660-25000-a8-rightOlfactory', 'SC048_010121-660-25000-a9-rightCorticalSubplate', 'SC048_010321-661-25000-a4-rightHippocampus', 'SC048_010321-661-25000-a7-rightOlfactory', 'SC048_010321-661-25000-a8-leftCorticalSubplate', 'SC048_010421-662-25000-a4-rightHippocampus', 'SC048_010421-662-25000-a6-leftCorticalSubplate', 'SC048_010421-662-25000-a7-rightCorticalSubplate', 'SC048_122520-663-25000-a4-rightHypothalamus', 'SC048_122620-664-25000-a10-rightCorticalSubplate', 'SC048_122620-664-25000-a11-leftPallidum', 'SC048_122620-664-25000-a6-rightHypothalamus', 'SC048_122620-664-25000-a7-leftHippocampus', 'SC048_122620-664-25000-a8-rightHippocampus', 'SC048_122920-665-25000-a6-leftHypothalamus', 'SC048_122920-665-25000-a7-rightHypothalamus', 'SC048_122920-665-25000-a8-leftHippocampus', 'SC048_122920-665-25000-a9-rightHippocampus', 'SC048_123020-666-25000-a10-rightOrbital', 'SC048_123020-666-25000-a6-leftHypothalamus', 'SC048_123020-666-25000-a8-leftHippocampus', 'SC048_123020-666-25000-a9-rightHippocampus', 'SC048_123120-667-25000-a4-leftHypothalamus', 'SC048_123120-667-25000-a7-rightOlfactory', 'SC048_123120-667-25000-a8-rightCorticalSubplate', 'SC049_010821-669-25000-a8-rightOlfactory', 'SC049_010821-669-25000-a9-rightCorticalSubplate', 'SC049_011021-670-25000-a6-rightOlfactory', 'SC049_011021-670-25000-a7-leftCorticalSubplate', 'SC049_011021-670-25000-a8-rightCorticalSubplate', 'SC049_011121-671-25000-a7-leftCorticalSubplate', 'SC049_011121-671-25000-a8-rightCorticalSubplate', 'SC049_011221-672-25000-a5-leftHippocampus', 'SC049_011221-672-25000-a6-rightHippocampus', 'SC049_011221-672-25000-a7-rightOrbital', 'SC049_011221-672-25000-a8-rightOlfactory', 'SC049_011321-673-25000-a12-leftOlfactory', 'SC049_011321-673-25000-a7-rightHippocampus', 'SC049_011321-673-25000-a8-leftOrbital', 'SC049_011321-673-25000-a9-rightOrbital', 'SC050_022521-591-25000-a5-leftOrbital', 'SC050_022521-591-25000-a6-rightOrbital', 'SC050_022521-591-25000-a7-leftOlfactory', 'SC050_022621-592-25000-a5-leftOrbital', 'SC050_022621-592-25000-a6-rightOrbital', 'SC050_022621-592-25000-a7-leftOlfactory', 'SC050_022621-592-25000-a8-rightOlfactory', 'SC050_022721-593-25000-a10-rightOlfactory', 'SC050_022721-593-25000-a6-leftOrbital', 'SC050_022721-593-25000-a7-rightOrbital', 'SC050_022721-593-25000-a9-leftOlfactory', 'SC050_030121-594-25000-a10-leftOlfactory', 'SC050_030121-594-25000-a11-rightOlfactory', 'SC050_030121-594-25000-a12-leftCorticalSubplate', 'SC050_030121-594-25000-a7-leftOrbital', 'SC050_030121-594-25000-a8-rightOrbital', 'SC050_030221-595-25000-a5-leftOrbital', 'SC050_030221-595-25000-a6-rightOrbital', 'SC050_030221-595-25000-a8-leftOlfactory', 'SC050_030221-595-25000-a9-rightOlfactory', 'SC050_030421-597-25000-a5-rightPallidum', 'SC052_012621-599-25000-a11-leftOlfactory', 'SC052_012621-599-25000-a4-leftHypothalamus', 'SC052_012621-599-25000-a6-leftHippocampus', 'SC052_012621-599-25000-a7-rightHippocampus', 'SC052_012621-599-25000-a8-leftOrbital', 'SC053_022121-600-25000-a4-leftHypothalamus', 'SC053_022121-600-25000-a5-leftHippocampus', 'SC053_022121-600-25000-a6-leftOrbital', 'SC053_022121-600-25000-a8-leftOlfactory', 'SC053_022221-601-25000-a10-leftCorticalSubplate', 'SC053_022221-601-25000-a5-leftHypothalamus', 'SC053_022221-601-25000-a6-leftHippocampus', 'SC053_022221-601-25000-a7-leftOrbital', 'SC053_022221-601-25000-a9-leftOlfactory', 'SC053_022421-602-25000-a4-rightHypothalamus', 'SC053_022421-602-25000-a5-rightHippocampus', 'SC053_022421-602-25000-a6-rightOrbital', 'SC053_022421-602-25000-a8-rightOlfactory', 'SC053_022421-602-25000-a9-rightPallidum', 'SC053_022521-603-25000-a10-rightPallidum', 'SC053_022521-603-25000-a5-rightHypothalamus', 'SC053_022521-603-25000-a7-rightOrbital', 'SC053_022521-603-25000-a9-rightOlfactory', 'SC053_022621-604-25000-a4-rightHypothalamus', 'SC053_022621-604-25000-a5-rightHippocampus', 'SC053_022621-604-25000-a6-rightOrbital', 'SC053_022621-604-25000-a8-rightOlfactory', 'SC060_031921-605-25000-a4-leftOrbital', 'SC060_032021-606-25000-a4-leftHypothalamus', 'SC060_032021-606-25000-a5-leftOrbital', 'SC060_032021-606-25000-a7-leftCorticalSubplate', 'SC060_032221-607-25000-a4-rightOrbital', 'SC060_032221-607-25000-a6-rightCorticalSubplate', 'SC060_032321-608-25000-a4-rightOrbital', 'SC061_032121-615-25000-a5-rightOrbital', 'SC061_032121-615-25000-a8-rightCorticalSubplate', 'SC061_032221-616-25000-a4-rightHippocampus', 'SC061_032221-616-25000-a5-rightOrbital', 'SC061_032221-616-25000-a8-rightCorticalSubplate', 'SC064_042721-619-25000-a6-leftHippocampus', 'SC064_042721-619-25000-a7-leftOrbital', 'SC064_042821-620-25000-a5-leftHypothalamus', 'SC064_042821-620-25000-a6-leftHippocampus', 'SC064_042821-620-25000-a7-leftOrbital', 'SC064_042821-620-25000-a9-leftCorticalSubplate', 'SC064_042921-621-25000-a5-leftHippocampus', 'SC064_042921-621-25000-a6-leftOrbital', 'SC064_043021-622-25000-a6-leftHippocampus', 'SC064_050421-623-25000-a5-rightHypothalamus', 'SC064_050421-623-25000-a7-rightOrbital', 'SC064_050621-624-25000-a5-rightHypothalamus', 'SC064_050621-624-25000-a6-rightHippocampus', 'SC064_050621-624-25000-a7-rightOrbital', 'SC064_050621-624-25000-a9-rightOlfactory', 'SC064_050721-625-25000-a5-rightHippocampus', 'SC064_050721-625-25000-a6-rightOrbital', 'SC064_050721-625-25000-a8-rightPallidum', 'SC064_050821-626-25000-a5-rightHippocampus', 'SC064_050821-626-25000-a6-rightOrbital', 'SC064_050821-626-25000-a8-rightPallidum', 'SC065_050421-627-25000-a5-rightOrbital', 'SC065_050421-627-25000-a7-rightOlfactory', 'SC065_050621-629-25000-a4-rightOrbital', 'SC065_050621-629-25000-a6-rightCorticalSubplate', 'SC065_050721-630-25000-a4-rightHippocampus', 'SC065_050921-631-25000-a6-rightOrbital', 'SC065_050921-631-25000-a8-rightCorticalSubplate', 'SC065_051021-634-25000-a7-leftOrbital', 'SC065_051021-634-25000-a9-leftCorticalSubplate', 'SC065_051121-635-25000-a5-leftHippocampus', 'SC065_051121-635-25000-a7-leftCorticalSubplate', 'SC065_051321-639-25000-a5-leftHippocampus', 'SC065_051421-640-25000-a4-leftHippocampus', 'SC065_051421-640-25000-a6-leftCorticalSubplate', 'SC065_051421-640-25000-a7-leftPallidum', 'SC066_041421-641-25000-a5-rightCerebellum', 'SC066_041421-641-25000-a7-leftOrbital', 'SC066_041521-642-25000-a6-leftHippocampus', 'SC066_041521-642-25000-a7-leftOrbital', 'SC066_041521-642-25000-a9-leftPallidum', 'SC066_041621-643-25000-a6-rightCerebellum', 'SC066_041621-643-25000-a7-leftHippocampus', 'SC066_041621-643-25000-a9-leftPallidum', 'SC066_042021-644-25000-a6-leftPons', 'SC066_042021-644-25000-a7-leftCerebellum', 'SC066_042021-644-25000-a8-rightHippocampus', 'SC066_042121-645-25000-a7-rightHippocampus', 'SC067_041321-646-25000-a5-rightCerebellum', 'SC067_041321-646-25000-a6-leftOrbital', 'SC067_041321-646-25000-a9-leftPallidum', 'SC067_041421-647-25000-a5-rightCerebellum', 'SC067_041421-647-25000-a7-leftPallidum', 'SC067_041521-654-25000-a5-rightCerebellum', 'SC067_041521-654-25000-a6-leftOrbital', 'SC067_041521-654-25000-a7-leftCorticalSubplate', 'SC067_041821-655-25000-a10-rightOlfactory', 'SC067_041821-655-25000-a6-leftCerebellum', 'SC067_041821-655-25000-a7-rightHippocampus', 'SC067_041821-655-25000-a8-rightOrbital', 'SC067_041921-656-25000-a5-leftCerebellum', 'SC067_041921-656-25000-a7-rightOrbital', 'SC067_041921-656-25000-a9-rightOlfactory', 'SC067_042021-657-25000-a10-rightOrbital', 'SC067_042021-657-25000-a8-leftCerebellum', 'SC067_042021-657-25000-a9-rightHippocampus'])"
      ]
     },
     "execution_count": 4,
     "metadata": {},
     "output_type": "execute_result"
    }
   ],
   "source": [
    "gh_info.keys()"
   ]
  },
  {
   "cell_type": "code",
   "execution_count": 5,
   "metadata": {},
   "outputs": [
    {
     "data": {
      "text/plain": [
       "dict_keys(['SC026_080519', 'SC026_080619', 'SC026_080819', 'SC027_072919', 'SC027_073019', 'SC027_073119', 'SC027_080119', 'SC027_080319', 'SC027_080419', 'SC030_100319', 'SC030_100419', 'SC030_100519', 'SC031_102119', 'SC031_102319', 'SC032_121819', 'SC032_121919', 'SC032_122019', 'SC033_111319', 'SC033_111419', 'SC033_111519', 'SC035_010720', 'SC035_010820', 'SC035_010920', 'SC035_011020', 'SC038_111919_s4', 'SC038_111919_s5', 'SC038_112019_s6', 'SC038_112019_s7', 'SC038_112119_s8', 'SC038_112119_s9', 'SC038_112219_s10', 'SC038_112219_s11', 'SC038_112319_s12', 'SC038_112319_s13', 'SC043_092220', 'SC043_092320', 'SC043_092420', 'SC043_092520', 'SC045_121020', 'SC045_121120', 'SC045_121420', 'SC045_121720', 'SC045_121820', 'SC048_010121', 'SC048_010321', 'SC048_010421', 'SC048_122520', 'SC048_122620', 'SC048_122920', 'SC048_123020', 'SC048_123120', 'SC049_010721', 'SC049_010821', 'SC049_011021', 'SC049_011121', 'SC049_011221', 'SC049_011321', 'SC050_022521', 'SC050_022621', 'SC050_022721', 'SC050_030121', 'SC050_030221', 'SC050_030321', 'SC050_030421', 'SC052_012121', 'SC052_012621', 'SC053_022121', 'SC053_022221', 'SC053_022421', 'SC053_022521', 'SC053_022621', 'SC060_031921', 'SC060_032021', 'SC060_032221', 'SC060_032321', 'SC061_032121', 'SC061_032221', 'SC061_032321', 'SC061_032421', 'SC064_042721', 'SC064_042821', 'SC064_042921', 'SC064_043021', 'SC064_050421', 'SC064_050621', 'SC064_050721', 'SC064_050821', 'SC065_050421', 'SC065_050621', 'SC065_050721', 'SC065_050921', 'SC065_051021', 'SC065_051121', 'SC065_051321', 'SC065_051421', 'SC066_041421', 'SC066_041521', 'SC066_041621', 'SC066_042021', 'SC066_042121', 'SC067_041321', 'SC067_041421', 'SC067_041521', 'SC067_041821', 'SC067_041921', 'SC067_042021'])"
      ]
     },
     "execution_count": 5,
     "metadata": {},
     "output_type": "execute_result"
    }
   ],
   "source": [
    "sess_info.keys()"
   ]
  },
  {
   "cell_type": "code",
   "execution_count": 6,
   "metadata": {},
   "outputs": [
    {
     "data": {
      "text/plain": [
       "dict_keys(['lick', 'success-lick0', 'success-lick1', 'success-trialType0', 'success-trialType1', 'success-lick', 'success-trialType', 'done'])"
      ]
     },
     "execution_count": 6,
     "metadata": {},
     "output_type": "execute_result"
    }
   ],
   "source": [
    "sess_info['SC026_080519'].keys()"
   ]
  },
  {
   "cell_type": "code",
   "execution_count": 7,
   "metadata": {},
   "outputs": [
    {
     "data": {
      "text/plain": [
       "dict_keys(['auc', 'acc', 'score', 'clf', 'can_do'])"
      ]
     },
     "execution_count": 7,
     "metadata": {},
     "output_type": "execute_result"
    }
   ],
   "source": [
    "sess_info['SC026_080519']['lick'].keys()"
   ]
  },
  {
   "cell_type": "code",
   "execution_count": 8,
   "metadata": {},
   "outputs": [
    {
     "data": {
      "text/plain": [
       "(232,)"
      ]
     },
     "execution_count": 8,
     "metadata": {},
     "output_type": "execute_result"
    }
   ],
   "source": [
    "sess_info['SC026_080519']['lick']['auc']['train'].shape"
   ]
  },
  {
   "cell_type": "code",
   "execution_count": 9,
   "metadata": {},
   "outputs": [
    {
     "data": {
      "text/plain": [
       "(232,)"
      ]
     },
     "execution_count": 9,
     "metadata": {},
     "output_type": "execute_result"
    }
   ],
   "source": [
    "sess_info['SC026_080819']['lick']['auc']['test'].shape"
   ]
  },
  {
   "cell_type": "code",
   "execution_count": 10,
   "metadata": {},
   "outputs": [
    {
     "data": {
      "text/plain": [
       "dict_keys(['SC026_080519', 'SC026_080619', 'SC026_080819', 'SC027_072919', 'SC027_073019', 'SC027_073119', 'SC027_080119', 'SC027_080319', 'SC027_080419', 'SC030_100319', 'SC030_100419', 'SC030_100519', 'SC031_102119', 'SC031_102319', 'SC032_121819', 'SC032_121919', 'SC032_122019', 'SC033_111319', 'SC033_111419', 'SC033_111519', 'SC035_010720', 'SC035_010820', 'SC035_010920', 'SC035_011020', 'SC038_111919_s4', 'SC038_111919_s5', 'SC038_112019_s6', 'SC038_112019_s7', 'SC038_112119_s8', 'SC038_112119_s9', 'SC038_112219_s10', 'SC038_112219_s11', 'SC038_112319_s12', 'SC038_112319_s13', 'SC043_092220', 'SC043_092320', 'SC043_092420', 'SC043_092520', 'SC045_121020', 'SC045_121120', 'SC045_121420', 'SC045_121720', 'SC045_121820', 'SC048_010121', 'SC048_010321', 'SC048_010421', 'SC048_122520', 'SC048_122620', 'SC048_122920', 'SC048_123020', 'SC048_123120', 'SC049_010721', 'SC049_010821', 'SC049_011021', 'SC049_011121', 'SC049_011221', 'SC049_011321', 'SC050_022521', 'SC050_022621', 'SC050_022721', 'SC050_030121', 'SC050_030221', 'SC050_030321', 'SC050_030421', 'SC052_012121', 'SC052_012621', 'SC053_022121', 'SC053_022221', 'SC053_022421', 'SC053_022521', 'SC053_022621', 'SC060_031921', 'SC060_032021', 'SC060_032221', 'SC060_032321', 'SC061_032121', 'SC061_032221', 'SC061_032321', 'SC061_032421', 'SC064_042721', 'SC064_042821', 'SC064_042921', 'SC064_043021', 'SC064_050421', 'SC064_050621', 'SC064_050721', 'SC064_050821', 'SC065_050421', 'SC065_050621', 'SC065_050721', 'SC065_050921', 'SC065_051021', 'SC065_051121', 'SC065_051321', 'SC065_051421', 'SC066_041421', 'SC066_041521', 'SC066_041621', 'SC066_042021', 'SC066_042121', 'SC067_041321', 'SC067_041421', 'SC067_041521', 'SC067_041821', 'SC067_041921', 'SC067_042021'])"
      ]
     },
     "execution_count": 10,
     "metadata": {},
     "output_type": "execute_result"
    }
   ],
   "source": [
    "cal4cat = pickle.load((open('../data/cal4cat-delay.pickle', 'rb')))\n",
    "cal4cat.keys()"
   ]
  },
  {
   "cell_type": "code",
   "execution_count": 11,
   "metadata": {},
   "outputs": [
    {
     "data": {
      "text/plain": [
       "dict_keys(['gh', 'baFull', 'ba', 'select', 'samp'])"
      ]
     },
     "execution_count": 11,
     "metadata": {},
     "output_type": "execute_result"
    }
   ],
   "source": [
    "cal4cat['SC026_080519'].keys()"
   ]
  },
  {
   "cell_type": "code",
   "execution_count": 12,
   "metadata": {},
   "outputs": [
    {
     "data": {
      "text/plain": [
       "(465,)"
      ]
     },
     "execution_count": 12,
     "metadata": {},
     "output_type": "execute_result"
    }
   ],
   "source": [
    "cal4cat['SC026_080519']['select']['trialType'].shape"
   ]
  },
  {
   "cell_type": "code",
   "execution_count": 13,
   "metadata": {},
   "outputs": [
    {
     "data": {
      "text/plain": [
       "(207,)"
      ]
     },
     "execution_count": 13,
     "metadata": {},
     "output_type": "execute_result"
    }
   ],
   "source": [
    "cal4cat['SC027_072919']['select']['trialType'].shape"
   ]
  },
  {
   "cell_type": "code",
   "execution_count": 14,
   "metadata": {},
   "outputs": [
    {
     "data": {
      "text/plain": [
       "dict_keys([(0, 0), (0, 1), (1, 0), (1, 1)])"
      ]
     },
     "execution_count": 14,
     "metadata": {},
     "output_type": "execute_result"
    }
   ],
   "source": [
    "cal4cat['SC026_080519']['samp'].keys()"
   ]
  },
  {
   "cell_type": "code",
   "execution_count": 29,
   "metadata": {},
   "outputs": [
    {
     "data": {
      "text/plain": [
       "(355,)"
      ]
     },
     "execution_count": 29,
     "metadata": {},
     "output_type": "execute_result"
    }
   ],
   "source": [
    "cal4cat['SC035_010820']['samp'][(0,1)].shape"
   ]
  },
  {
   "cell_type": "code",
   "execution_count": 16,
   "metadata": {},
   "outputs": [
    {
     "data": {
      "text/plain": [
       "array([False, False, False, False, False, False, False,  True, False,\n",
       "       False, False, False, False, False, False, False, False, False,\n",
       "        True, False,  True, False, False, False,  True, False, False,\n",
       "       False,  True, False, False, False, False, False, False, False,\n",
       "       False, False, False, False, False,  True, False, False,  True,\n",
       "        True, False, False, False, False, False, False, False,  True,\n",
       "       False, False, False, False, False, False,  True, False, False,\n",
       "       False, False, False, False, False, False, False, False, False,\n",
       "       False, False, False, False,  True,  True, False, False, False,\n",
       "        True, False, False,  True, False, False, False, False, False,\n",
       "       False, False, False, False, False, False, False, False, False,\n",
       "        True, False, False, False, False, False, False, False, False,\n",
       "       False, False, False, False, False, False, False,  True, False,\n",
       "       False, False, False, False, False, False, False, False, False,\n",
       "        True, False, False, False, False, False, False,  True, False,\n",
       "       False, False, False, False, False, False, False, False,  True,\n",
       "       False, False, False, False, False, False, False, False,  True,\n",
       "        True, False, False, False, False, False, False, False, False,\n",
       "       False, False, False, False, False, False, False, False, False,\n",
       "       False, False, False, False, False,  True, False, False, False,\n",
       "       False, False, False, False, False, False, False, False, False,\n",
       "       False, False, False, False, False, False, False, False, False,\n",
       "       False, False, False, False, False, False, False, False, False,\n",
       "       False, False, False, False, False, False, False, False, False,\n",
       "       False, False, False, False, False, False, False, False, False,\n",
       "       False, False, False,  True, False, False, False, False, False,\n",
       "       False, False,  True, False, False, False, False, False, False,\n",
       "       False, False, False, False, False, False, False, False, False,\n",
       "       False, False, False, False, False, False, False,  True, False,\n",
       "       False, False, False, False, False, False,  True, False, False,\n",
       "       False, False, False, False, False, False, False, False, False,\n",
       "       False, False, False, False, False, False,  True,  True, False,\n",
       "       False, False, False, False, False, False, False, False, False,\n",
       "       False, False, False, False, False, False, False,  True, False,\n",
       "       False, False, False, False, False, False, False, False,  True,\n",
       "       False,  True, False,  True, False, False, False, False, False,\n",
       "       False, False, False, False,  True, False, False, False, False,\n",
       "       False, False, False, False, False,  True, False, False, False,\n",
       "       False, False, False, False, False, False, False, False, False,\n",
       "       False, False,  True, False])"
      ]
     },
     "execution_count": 16,
     "metadata": {},
     "output_type": "execute_result"
    }
   ],
   "source": [
    "cal4cat['SC035_010820']['samp'][(0,1)]"
   ]
  },
  {
   "cell_type": "code",
   "execution_count": 15,
   "metadata": {},
   "outputs": [],
   "source": [
    "ephys_data = pickle.load(open('../CodeForGeneratingR2/ephys/preprocessed/stride3_bw40/SC035_20200108_34/2_right_Medulla.pickle', 'rb'))"
   ]
  },
  {
   "cell_type": "code",
   "execution_count": 16,
   "metadata": {},
   "outputs": [
    {
     "data": {
      "text/plain": [
       "(1765, 640, 87)"
      ]
     },
     "execution_count": 16,
     "metadata": {},
     "output_type": "execute_result"
    }
   ],
   "source": [
    "ephys_data['fr'].shape"
   ]
  },
  {
   "cell_type": "code",
   "execution_count": 17,
   "metadata": {},
   "outputs": [],
   "source": [
    "old_ephys = pickle.load(open('../data/SC035_010820-589-25000-a2-rightMedulla.pickle', 'rb'))"
   ]
  },
  {
   "cell_type": "code",
   "execution_count": 18,
   "metadata": {},
   "outputs": [
    {
     "ename": "KeyError",
     "evalue": "'success'",
     "output_type": "error",
     "traceback": [
      "\u001b[0;31m---------------------------------------------------------------------------\u001b[0m",
      "\u001b[0;31mKeyError\u001b[0m                                  Traceback (most recent call last)",
      "\u001b[0;32m<ipython-input-18-ab938032679f>\u001b[0m in \u001b[0;36m<module>\u001b[0;34m\u001b[0m\n\u001b[1;32m      1\u001b[0m \u001b[0muids\u001b[0m \u001b[0;34m=\u001b[0m \u001b[0mnp\u001b[0m\u001b[0;34m.\u001b[0m\u001b[0mconcatenate\u001b[0m\u001b[0;34m(\u001b[0m\u001b[0;34m[\u001b[0m\u001b[0mold_ephys\u001b[0m\u001b[0;34m[\u001b[0m\u001b[0;34m'uid'\u001b[0m\u001b[0;34m]\u001b[0m\u001b[0;34m[\u001b[0m\u001b[0msplit\u001b[0m\u001b[0;34m]\u001b[0m \u001b[0;32mfor\u001b[0m \u001b[0msplit\u001b[0m \u001b[0;32min\u001b[0m \u001b[0;34m[\u001b[0m\u001b[0;34m'train'\u001b[0m\u001b[0;34m,\u001b[0m \u001b[0;34m'val'\u001b[0m\u001b[0;34m,\u001b[0m \u001b[0;34m'test'\u001b[0m\u001b[0;34m]\u001b[0m\u001b[0;34m]\u001b[0m\u001b[0;34m)\u001b[0m\u001b[0;34m\u001b[0m\u001b[0;34m\u001b[0m\u001b[0m\n\u001b[1;32m      2\u001b[0m \u001b[0;34m\u001b[0m\u001b[0m\n\u001b[0;32m----> 3\u001b[0;31m \u001b[0msuccess\u001b[0m \u001b[0;34m=\u001b[0m \u001b[0mnp\u001b[0m\u001b[0;34m.\u001b[0m\u001b[0mconcatenate\u001b[0m\u001b[0;34m(\u001b[0m\u001b[0;34m[\u001b[0m\u001b[0mold_ephys\u001b[0m\u001b[0;34m[\u001b[0m\u001b[0;34m'success'\u001b[0m\u001b[0;34m]\u001b[0m\u001b[0;34m[\u001b[0m\u001b[0msplit\u001b[0m\u001b[0;34m]\u001b[0m \u001b[0;32mfor\u001b[0m \u001b[0msplit\u001b[0m \u001b[0;32min\u001b[0m \u001b[0;34m[\u001b[0m\u001b[0;34m'train'\u001b[0m\u001b[0;34m,\u001b[0m \u001b[0;34m'val'\u001b[0m\u001b[0;34m,\u001b[0m \u001b[0;34m'test'\u001b[0m\u001b[0;34m]\u001b[0m\u001b[0;34m]\u001b[0m\u001b[0;34m)\u001b[0m\u001b[0;34m\u001b[0m\u001b[0;34m\u001b[0m\u001b[0m\n\u001b[0m\u001b[1;32m      4\u001b[0m \u001b[0;34m\u001b[0m\u001b[0m\n\u001b[1;32m      5\u001b[0m \u001b[0muids_good\u001b[0m \u001b[0;34m=\u001b[0m \u001b[0muids\u001b[0m\u001b[0;34m[\u001b[0m\u001b[0msuccess\u001b[0m \u001b[0;34m==\u001b[0m \u001b[0;36m1\u001b[0m\u001b[0;34m]\u001b[0m\u001b[0;34m\u001b[0m\u001b[0;34m\u001b[0m\u001b[0m\n",
      "\u001b[0;32m<ipython-input-18-ab938032679f>\u001b[0m in \u001b[0;36m<listcomp>\u001b[0;34m(.0)\u001b[0m\n\u001b[1;32m      1\u001b[0m \u001b[0muids\u001b[0m \u001b[0;34m=\u001b[0m \u001b[0mnp\u001b[0m\u001b[0;34m.\u001b[0m\u001b[0mconcatenate\u001b[0m\u001b[0;34m(\u001b[0m\u001b[0;34m[\u001b[0m\u001b[0mold_ephys\u001b[0m\u001b[0;34m[\u001b[0m\u001b[0;34m'uid'\u001b[0m\u001b[0;34m]\u001b[0m\u001b[0;34m[\u001b[0m\u001b[0msplit\u001b[0m\u001b[0;34m]\u001b[0m \u001b[0;32mfor\u001b[0m \u001b[0msplit\u001b[0m \u001b[0;32min\u001b[0m \u001b[0;34m[\u001b[0m\u001b[0;34m'train'\u001b[0m\u001b[0;34m,\u001b[0m \u001b[0;34m'val'\u001b[0m\u001b[0;34m,\u001b[0m \u001b[0;34m'test'\u001b[0m\u001b[0;34m]\u001b[0m\u001b[0;34m]\u001b[0m\u001b[0;34m)\u001b[0m\u001b[0;34m\u001b[0m\u001b[0;34m\u001b[0m\u001b[0m\n\u001b[1;32m      2\u001b[0m \u001b[0;34m\u001b[0m\u001b[0m\n\u001b[0;32m----> 3\u001b[0;31m \u001b[0msuccess\u001b[0m \u001b[0;34m=\u001b[0m \u001b[0mnp\u001b[0m\u001b[0;34m.\u001b[0m\u001b[0mconcatenate\u001b[0m\u001b[0;34m(\u001b[0m\u001b[0;34m[\u001b[0m\u001b[0mold_ephys\u001b[0m\u001b[0;34m[\u001b[0m\u001b[0;34m'success'\u001b[0m\u001b[0;34m]\u001b[0m\u001b[0;34m[\u001b[0m\u001b[0msplit\u001b[0m\u001b[0;34m]\u001b[0m \u001b[0;32mfor\u001b[0m \u001b[0msplit\u001b[0m \u001b[0;32min\u001b[0m \u001b[0;34m[\u001b[0m\u001b[0;34m'train'\u001b[0m\u001b[0;34m,\u001b[0m \u001b[0;34m'val'\u001b[0m\u001b[0;34m,\u001b[0m \u001b[0;34m'test'\u001b[0m\u001b[0;34m]\u001b[0m\u001b[0;34m]\u001b[0m\u001b[0;34m)\u001b[0m\u001b[0;34m\u001b[0m\u001b[0;34m\u001b[0m\u001b[0m\n\u001b[0m\u001b[1;32m      4\u001b[0m \u001b[0;34m\u001b[0m\u001b[0m\n\u001b[1;32m      5\u001b[0m \u001b[0muids_good\u001b[0m \u001b[0;34m=\u001b[0m \u001b[0muids\u001b[0m\u001b[0;34m[\u001b[0m\u001b[0msuccess\u001b[0m \u001b[0;34m==\u001b[0m \u001b[0;36m1\u001b[0m\u001b[0;34m]\u001b[0m\u001b[0;34m\u001b[0m\u001b[0;34m\u001b[0m\u001b[0m\n",
      "\u001b[0;31mKeyError\u001b[0m: 'success'"
     ]
    }
   ],
   "source": [
    "uids = np.concatenate([old_ephys['uid'][split] for split in ['train', 'val', 'test']])"
   ]
  },
  {
   "cell_type": "code",
   "execution_count": 23,
   "metadata": {},
   "outputs": [],
   "source": [
    "trial_inds = np.array([int(uid.split('-')[-1])-1 for uid in uids])\n"
   ]
  },
  {
   "cell_type": "code",
   "execution_count": 26,
   "metadata": {},
   "outputs": [],
   "source": [
    "success = ephys_data['correctness'][trial_inds]"
   ]
  },
  {
   "cell_type": "code",
   "execution_count": 27,
   "metadata": {},
   "outputs": [
    {
     "name": "stdout",
     "output_type": "stream",
     "text": [
      "355\n"
     ]
    }
   ],
   "source": [
    "uids_good = uids[success == 1]\n",
    "print(len(uids_good))"
   ]
  },
  {
   "cell_type": "code",
   "execution_count": null,
   "metadata": {},
   "outputs": [],
   "source": []
  },
  {
   "cell_type": "code",
   "execution_count": 19,
   "metadata": {},
   "outputs": [
    {
     "data": {
      "text/plain": [
       "dict_keys(['fr', 'ccf-coordinate', 'ccf-label', 'ccf-unit_id', 'uid', 'bw', 'stride'])"
      ]
     },
     "execution_count": 19,
     "metadata": {},
     "output_type": "execute_result"
    }
   ],
   "source": [
    "old_ephys.keys()"
   ]
  },
  {
   "cell_type": "code",
   "execution_count": 49,
   "metadata": {},
   "outputs": [
    {
     "data": {
      "text/plain": [
       "360"
      ]
     },
     "execution_count": 49,
     "metadata": {},
     "output_type": "execute_result"
    }
   ],
   "source": [
    "len(old_ephys['uid']['train'])+len(old_ephys['uid']['test'])"
   ]
  },
  {
   "cell_type": "markdown",
   "metadata": {},
   "source": [
    "Have to figure out the trial uid-s for the `cal4cat['SC035_010820']['samp'][(0,1)]` predictions, because it does not align with the raw nor the other filtered trial lists."
   ]
  },
  {
   "cell_type": "code",
   "execution_count": 30,
   "metadata": {},
   "outputs": [
    {
     "name": "stdout",
     "output_type": "stream",
     "text": [
      "SC038_111919_s4\n",
      "SC038_111919_s5\n",
      "SC038_112019_s6\n",
      "SC038_112019_s7\n",
      "SC038_112119_s8\n",
      "SC038_112119_s9\n",
      "SC038_112219_s10\n",
      "SC038_112219_s11\n",
      "SC038_112319_s12\n",
      "SC038_112319_s13\n"
     ]
    }
   ],
   "source": [
    "keys = list(cal4cat.keys())\n",
    "\n",
    "for k in keys:\n",
    "    if '_s' in k:\n",
    "        print(k)"
   ]
  },
  {
   "cell_type": "code",
   "execution_count": null,
   "metadata": {},
   "outputs": [],
   "source": [
    "import pickle\n",
    "import numpy as np\n",
    "import os\n",
    "import glob\n",
    "\n",
    "old_ephys_folder = '/scratch/users/kurgyis/data/aiden_fr_files/stride17_bw40/'\n",
    "new_ephys_folder = '/oak/stanford/groups/shauld/kurgyis/data/Map_ULTIMATE_preprocessed/stride3_bw40/'\n",
    "\n",
    "cal4cat_filename = '/oak/stanford/groups/shauld/kurgyis/data/AUC_analysis/cal4cat-delay.pickle'\n",
    "save_filename = '/oak/stanford/groups/shauld/kurgyis/data/AUC_analysis/trial_type_labels.pickle'\n",
    "\n",
    "cal4cat = pickle.load(open(cal4cat_filename, 'rb'))\n",
    "\n",
    "save_dict = {}\n",
    "\n",
    "for short_sess_name in cal4cat.keys():\n",
    "    print(short_sess_name)\n",
    "    search_pattern = os.path.join(old_ephys_folder, short_sess_name) + '*'\n",
    "\n",
    "    # List all files matching the pattern\n",
    "    matching_files = glob.glob(search_pattern)\n",
    "\n",
    "    # Filter to include only files\n",
    "    matching_files = [file for file in matching_files if os.path.isfile(file)]\n",
    "\n",
    "    if len(matching_files) == 0:\n",
    "        print('No files found')\n",
    "        continue\n",
    "\n",
    "    # Any file is good\n",
    "    old_ephys_file = matching_files[0]\n",
    "    old_ephys_data = pickle.load(open(old_ephys_file, 'rb'))\n",
    "\n",
    "    uids = np.concatenate([old_ephys_data['uid'][split] for split in ['train', 'val', 'test']])\n",
    "    trial_inds = np.array([int(uid.split('-')[-1])-1 for uid in uids])\n",
    "\n",
    "    new_sess_name = short_sess_name.split('_')[0] + '_20' + short_sess_name.split('_')[1][4:] + short_sess_name.split('_')[1][:4]\n",
    "    if '_s' in short_sess_name:\n",
    "        new_sess_name += '_' + short_sess_name.split('_s')[1]\n",
    "\n",
    "    new_ephys_search_pattern = os.path.join(new_ephys_folder, new_sess_name) + '*'\n",
    "\n",
    "    new_ephys_matching_files = glob.glob(new_ephys_search_pattern)\n",
    "\n",
    "    new_ephys_matching_folders = [path for path in new_ephys_matching_files if os.path.isdir(path)]\n",
    "\n",
    "    #make sure there is only one matching folder\n",
    "\n",
    "    if len(new_ephys_matching_folders) != 1:\n",
    "        print('No or multiple folders found')\n",
    "        continue\n",
    "\n",
    "    new_ephys_session_folder = new_ephys_matching_folders[0]\n",
    "    long_session_name = new_ephys_session_folder.split('/')[-1]\n",
    "    new_ephys_session_files = glob.glob(os.path.join(new_ephys_session_folder, '*.pickle'))\n",
    "\n",
    "    if len(new_ephys_session_files) == 0:\n",
    "        print('No files found')\n",
    "        continue\n",
    "\n",
    "    new_ephys_file = new_ephys_session_files[0]\n",
    "    new_ephys_data = pickle.load(open(new_ephys_file, 'rb'))\n",
    "\n",
    "    success = new_ephys_data['correctness'][trial_inds]\n",
    "\n",
    "    uids_good = uids[success == 1]\n",
    "    trial_inds_good = np.array([int(uid.split('-')[-1])-1 for uid in uids_good])\n",
    "\n",
    "    save_dict[long_session_name] = {\n",
    "        'uids': uids_good,\n",
    "        'trial_inds': trial_inds_good,\n",
    "        'trial_labels': cal4cat[short_sess_name]['samp']\n",
    "    }\n",
    "\n",
    "pickle.dump(save_dict, open(save_filename, 'wb'))\n",
    "    "
   ]
  },
  {
   "cell_type": "code",
   "execution_count": 2,
   "metadata": {},
   "outputs": [],
   "source": [
    "trial_type_label_data = pickle.load(open('../data/trial_type_labels.pickle', 'rb'))"
   ]
  },
  {
   "cell_type": "code",
   "execution_count": 3,
   "metadata": {},
   "outputs": [
    {
     "data": {
      "text/plain": [
       "dict_keys(['SC026_20190805_21', 'SC026_20190806_22', 'SC026_20190808_23', 'SC027_20190729_17', 'SC027_20190730_18', 'SC027_20190731_19', 'SC027_20190801_20', 'SC027_20190803_21', 'SC027_20190804_22', 'SC030_20191003_33', 'SC030_20191004_34', 'SC030_20191005_35', 'SC031_20191021_48', 'SC031_20191023_50', 'SC032_20191218_55', 'SC032_20191219_56', 'SC032_20191220_57', 'SC033_20191113_32', 'SC033_20191114_33', 'SC033_20191115_34', 'SC035_20200107_33', 'SC035_20200108_34', 'SC035_20200109_35', 'SC035_20200110_36', 'SC038_20191119_4', 'SC038_20191119_5', 'SC038_20191120_6', 'SC038_20191120_7', 'SC038_20191121_8', 'SC038_20191121_9', 'SC038_20191122_10', 'SC038_20191122_11', 'SC038_20191123_12', 'SC038_20191123_13', 'SC043_20200922_24', 'SC043_20200923_25', 'SC043_20200924_26', 'SC043_20200925_27', 'SC045_20201210_18', 'SC045_20201211_19', 'SC045_20201214_21', 'SC045_20201217_22', 'SC045_20201218_23', 'SC048_20210101_16', 'SC048_20210103_17', 'SC048_20210104_18', 'SC048_20201225_11', 'SC048_20201226_12', 'SC048_20201229_13', 'SC048_20201230_14', 'SC048_20201231_15', 'SC049_20210107_15', 'SC049_20210108_16', 'SC049_20210110_17', 'SC049_20210111_18', 'SC049_20210112_19', 'SC049_20210113_20', 'SC050_20210225_16', 'SC050_20210226_17', 'SC050_20210227_18', 'SC050_20210301_19', 'SC050_20210302_20', 'SC050_20210303_21', 'SC050_20210304_22', 'SC052_20210121_3', 'SC052_20210126_7', 'SC053_20210221_8', 'SC053_20210222_9', 'SC053_20210224_11', 'SC053_20210225_12', 'SC053_20210226_13', 'SC060_20210319_2', 'SC060_20210320_3', 'SC060_20210322_4', 'SC060_20210323_5', 'SC061_20210321_9', 'SC061_20210322_10', 'SC061_20210323_11', 'SC061_20210324_12', 'SC064_20210427_5', 'SC064_20210428_6', 'SC064_20210429_7', 'SC064_20210430_8', 'SC064_20210504_10', 'SC064_20210506_12', 'SC064_20210507_13', 'SC064_20210508_14', 'SC065_20210504_5', 'SC065_20210506_7', 'SC065_20210507_8', 'SC065_20210509_9', 'SC065_20210510_10', 'SC065_20210511_11', 'SC065_20210513_12', 'SC065_20210514_13', 'SC066_20210414_7', 'SC066_20210415_8', 'SC066_20210416_9', 'SC066_20210420_11', 'SC066_20210421_12', 'SC067_20210413_23', 'SC067_20210414_24', 'SC067_20210415_25', 'SC067_20210418_26', 'SC067_20210419_27', 'SC067_20210420_28'])"
      ]
     },
     "execution_count": 3,
     "metadata": {},
     "output_type": "execute_result"
    }
   ],
   "source": [
    "trial_type_label_data.keys()"
   ]
  },
  {
   "cell_type": "code",
   "execution_count": 4,
   "metadata": {},
   "outputs": [
    {
     "data": {
      "text/plain": [
       "dict_keys(['uids', 'trial_inds', 'trial_labels'])"
      ]
     },
     "execution_count": 4,
     "metadata": {},
     "output_type": "execute_result"
    }
   ],
   "source": [
    "trial_type_label_data['SC026_20190805_21'].keys()"
   ]
  },
  {
   "cell_type": "code",
   "execution_count": 11,
   "metadata": {},
   "outputs": [
    {
     "data": {
      "text/plain": [
       "array([468, 189, 409, 309, 181, 507, 103, 368,  62, 145, 537, 237,  31,\n",
       "       286, 243, 111, 461, 198, 323, 272, 102, 231, 428, 180,  67, 387,\n",
       "       559, 466, 318, 512, 117, 288, 289, 558, 161, 501, 411, 356,  11,\n",
       "       302, 354,  32, 344, 417, 100, 330, 460, 424, 370,  15, 340,  35,\n",
       "       415, 401,  77, 314, 386, 227, 438, 332,  29, 419, 322, 141, 351,\n",
       "        95,  68,  21, 116, 328,  69, 515, 362, 412, 343,  45,  99, 454,\n",
       "        28, 435, 163, 517, 473, 310, 140, 306, 366, 276, 347, 497, 204,\n",
       "       308, 353, 462, 475, 194, 447, 529, 371, 132,  73,  34,  70,  86,\n",
       "       251, 389, 491,  52, 226,  78, 506, 267, 364, 105,  49, 134,  54,\n",
       "       476, 338, 348, 270, 169, 488, 273, 254, 385, 528, 437, 557, 121,\n",
       "       242, 222, 250, 556, 552, 160, 555, 221, 122, 391, 236, 108, 202,\n",
       "        22, 358,  13, 374, 527, 305, 345,  76, 503, 471,  12, 278,  24,\n",
       "       147, 441, 188, 234,  61, 297, 342, 470, 151, 216, 352, 213, 199,\n",
       "       407,  20, 252, 535, 458, 327, 410, 223, 174, 400, 256,  56, 224,\n",
       "       129, 522,  92,  60, 214, 317, 383, 119,  55, 474, 450, 153,  23,\n",
       "        30, 431, 467, 271, 165, 203, 238, 508,  88, 123, 290,  14,  79,\n",
       "       418, 166, 334, 110, 315, 377, 101,  75, 425,  25,  38, 248, 187,\n",
       "       505, 333, 439, 164, 502, 372, 416, 287, 137, 355, 159,  89, 489,\n",
       "       128, 423, 521, 282, 257, 155,  50, 312, 533, 133, 510, 118, 369,\n",
       "       195, 541,  27, 392, 280, 206, 258,  85, 346, 275,  37, 186, 190,\n",
       "       124, 434, 504, 228, 440, 483, 349, 350, 433, 513, 531, 157,  96,\n",
       "       480, 482, 249, 335, 296, 511,  57, 148, 549, 168, 514,  83, 285,\n",
       "       457, 422, 408, 114, 152, 536, 381, 277, 519, 321, 171, 268, 394,\n",
       "       293, 451])"
      ]
     },
     "execution_count": 11,
     "metadata": {},
     "output_type": "execute_result"
    }
   ],
   "source": [
    "trial_type_label_data['SC026_20190805_21']['trial_inds']"
   ]
  },
  {
   "cell_type": "code",
   "execution_count": 12,
   "metadata": {},
   "outputs": [
    {
     "data": {
      "text/plain": [
       "array([False,  True, False,  True, False, False, False, False, False,\n",
       "       False, False, False, False, False,  True,  True, False, False,\n",
       "       False, False, False, False, False, False,  True,  True, False,\n",
       "       False, False, False, False,  True,  True, False,  True, False,\n",
       "        True, False, False, False, False, False, False, False, False,\n",
       "       False, False, False,  True, False, False,  True, False, False,\n",
       "        True, False, False, False, False, False, False, False,  True,\n",
       "       False, False, False, False, False, False, False, False, False,\n",
       "        True, False, False, False, False, False, False, False, False,\n",
       "       False, False, False, False, False, False,  True, False, False,\n",
       "       False, False, False, False, False, False, False, False, False,\n",
       "       False, False, False, False, False, False, False, False,  True,\n",
       "       False, False, False,  True, False, False, False, False, False,\n",
       "       False, False, False, False, False, False, False,  True, False,\n",
       "       False, False, False, False, False,  True, False, False, False,\n",
       "       False, False, False, False,  True, False, False, False,  True,\n",
       "       False, False, False, False, False, False, False, False, False,\n",
       "       False, False, False,  True,  True, False, False, False, False,\n",
       "       False, False, False, False, False, False, False,  True, False,\n",
       "       False, False, False, False, False, False, False, False, False,\n",
       "       False, False, False, False, False, False,  True, False, False,\n",
       "       False,  True,  True, False, False, False, False, False,  True,\n",
       "       False, False,  True, False, False, False,  True, False, False,\n",
       "       False, False,  True, False, False, False, False, False, False,\n",
       "       False, False, False,  True,  True, False,  True,  True, False,\n",
       "       False, False, False, False, False, False, False, False, False,\n",
       "       False, False, False,  True, False, False, False, False, False,\n",
       "       False, False,  True, False, False, False, False,  True, False,\n",
       "        True, False, False, False, False, False, False, False, False,\n",
       "       False, False, False,  True,  True, False, False,  True,  True,\n",
       "       False, False, False, False, False, False, False, False, False,\n",
       "       False,  True, False, False, False,  True, False, False, False,\n",
       "       False, False, False, False, False, False, False, False, False,\n",
       "       False, False, False, False])"
      ]
     },
     "execution_count": 12,
     "metadata": {},
     "output_type": "execute_result"
    }
   ],
   "source": [
    "trial_type_label_data['SC026_20190805_21']['trial_labels'][(0,1)]"
   ]
  },
  {
   "cell_type": "code",
   "execution_count": 39,
   "metadata": {},
   "outputs": [],
   "source": [
    "def calculate_multi_neuron_auc(fr_mean, group1_labels, group2_labels, cv = 20, concat_folds = False):\n",
    "\n",
    "    n_neurons = fr_mean.shape[1]\n",
    "    fr1 = fr_mean[group1_labels]\n",
    "    fr2 = fr_mean[group2_labels]\n",
    "\n",
    "    _fr = np.concatenate([fr1, fr2], axis = 0)\n",
    "    _labels = np.concatenate([np.zeros(fr1.shape[0]), np.ones(fr2.shape[0])])\n",
    "\n",
    "    auc_array_test = np.zeros(n_neurons)\n",
    "    auc_array_train = np.zeros(n_neurons)\n",
    "\n",
    "    for ii in range(n_neurons):\n",
    "        auc_test, auc_train = calculate_single_neuron_auc_from_classification(_fr[:,ii].reshape(-1, 1), _labels, cv = cv, concat_folds = concat_folds)\n",
    "        auc_array_test[ii] = auc_test\n",
    "        auc_array_train[ii] = auc_train\n",
    "\n",
    "    return auc_array_test, auc_array_train\n",
    "\n",
    "\n",
    "from sklearn.linear_model import RidgeClassifierCV\n",
    "from sklearn.preprocessing import StandardScaler\n",
    "from sklearn.metrics import roc_auc_score\n",
    "\n",
    "def random_split(trial_labels, cv = 20, random_seed = 42):\n",
    "    np.random.seed(random_seed)\n",
    "    n_trials = len(trial_labels)\n",
    "    trial_inds = np.arange(n_trials)\n",
    "    np.random.shuffle(trial_inds)\n",
    "    cv_inds = np.array_split(trial_inds, cv)\n",
    "\n",
    "    split_inds_dict = {'train':[], 'test':[]}\n",
    "    for ii in range(cv):\n",
    "        train_inds = np.concatenate([cv_inds[jj] for jj in range(cv) if jj != ii])\n",
    "        test_inds = cv_inds[ii]\n",
    "        split_inds_dict['train'].append(train_inds)\n",
    "        split_inds_dict['test'].append(test_inds)\n",
    "\n",
    "    return split_inds_dict\n",
    "\n",
    "\n",
    "def calculate_single_neuron_auc_from_classification(\n",
    "    fr_mean, \n",
    "    trial_labels, \n",
    "    cv = 20, \n",
    "    scale = False, \n",
    "    classifier = RidgeClassifierCV, \n",
    "    class_weight = 'balanced', \n",
    "    trial_min = 21, \n",
    "    train_min = 10,\n",
    "    test_min = 1,\n",
    "    lda_n_components = None,\n",
    "    random_seed = 42,\n",
    "    concat_folds = False,\n",
    "    return_scores = False):\n",
    "\n",
    "    _seed = random_seed\n",
    "\n",
    "    n_categories = len(np.unique(trial_labels))\n",
    "    if n_categories != 2:\n",
    "        raise ValueError('Only binary classification is supported for now. Number of categories: {}'.format(n_categories))\n",
    "\n",
    "    if np.sum(trial_labels == np.unique(trial_labels)[0]) < trial_min or np.sum(trial_labels == np.unique(trial_labels)[1]) < trial_min:\n",
    "        raise ValueError('At least one of the classes has fewer than {} trials'.format(trial_min))\n",
    "\n",
    "    not_valid_split = True\n",
    "    while not_valid_split:\n",
    "        split_inds_dict = random_split(trial_labels, cv = cv, random_seed = _seed)\n",
    "        not_valid_split = False\n",
    "        for ii in range(cv):\n",
    "            train_inds = split_inds_dict['train'][ii]\n",
    "            test_inds = split_inds_dict['test'][ii]\n",
    "            if np.sum(trial_labels[train_inds] == np.unique(trial_labels)[0]) < train_min or np.sum(trial_labels[train_inds] == np.unique(trial_labels)[1]) < train_min:\n",
    "                not_valid_split = True\n",
    "                _seed += 1\n",
    "            if np.sum(trial_labels[test_inds] == np.unique(trial_labels)[0]) < test_min or np.sum(trial_labels[test_inds] == np.unique(trial_labels)[1]) < test_min:\n",
    "                not_valid_split = True\n",
    "                _seed += 1\n",
    "\n",
    "    \n",
    "    model = classifier(class_weight = class_weight)\n",
    "    test_scores = []\n",
    "    train_scores = []\n",
    "\n",
    "    for ii in range(cv):\n",
    "        train_inds = split_inds_dict['train'][ii]\n",
    "        test_inds = split_inds_dict['test'][ii]\n",
    "\n",
    "        if scale:\n",
    "            scaler = StandardScaler()\n",
    "            fr_train = scaler.fit_transform(fr_mean[train_inds])\n",
    "            fr_test = scaler.transform(fr_mean[test_inds])\n",
    "        else:\n",
    "            fr_train = fr_mean[train_inds]\n",
    "            fr_test = fr_mean[test_inds]\n",
    "\n",
    "        model.fit(fr_train, trial_labels[train_inds])\n",
    "        \n",
    "        test_scores.append(model.decision_function(fr_test))\n",
    "        train_scores.append(model.decision_function(fr_train))\n",
    "\n",
    "    if concat_folds:\n",
    "        test_scores = np.concatenate(test_scores)\n",
    "        train_scores = np.concatenate(train_scores)\n",
    "        test_labels = np.concatenate([trial_labels[split_inds_dict['test'][ii]] for ii in range(cv)])\n",
    "        train_labels = np.concatenate([trial_labels[split_inds_dict['train'][ii]] for ii in range(cv)])\n",
    "\n",
    "        auc_test = roc_auc_score(test_labels, test_scores)\n",
    "        auc_train = roc_auc_score(train_labels, train_scores)\n",
    "\n",
    "    else:\n",
    "        auc_test = np.mean([roc_auc_score(trial_labels[split_inds_dict['test'][ii]], test_scores[ii]) for ii in range(cv)])\n",
    "        auc_train = np.mean([roc_auc_score(trial_labels[split_inds_dict['train'][ii]], train_scores[ii]) for ii in range(cv)])\n",
    "    \n",
    "    if return_scores:\n",
    "        return auc_test, auc_train, test_scores, train_scores\n",
    "    else:\n",
    "        return auc_test, auc_train\n",
    "\n",
    "    \n"
   ]
  },
  {
   "cell_type": "code",
   "execution_count": 40,
   "metadata": {},
   "outputs": [
    {
     "data": {
      "text/plain": [
       "dict_keys(['sess_name', 'area', 'bin_centers', 'fr', 'spike_times', 'neuron_info', 'unit_qc', 'ccf_coordinate', 'ccf_label', 'ccf_unit_id', 'auto_learn_trials', 'early_lick_trials', 'auto_water_trials', 'free_water_trials', 'lick_directions', 'lick_times', 'gocue_time', 'correctness', 'delay_period', 'sample_period', 'stimulation', 'trial_type'])"
      ]
     },
     "execution_count": 40,
     "metadata": {},
     "output_type": "execute_result"
    }
   ],
   "source": [
    "ephys_data.keys()"
   ]
  },
  {
   "cell_type": "code",
   "execution_count": 41,
   "metadata": {},
   "outputs": [
    {
     "name": "stdout",
     "output_type": "stream",
     "text": [
      "(640, 87)\n"
     ]
    }
   ],
   "source": [
    "fr = ephys_data['fr']\n",
    "tt = ephys_data['bin_centers']\n",
    "sess_name = ephys_data['sess_name']\n",
    "\n",
    "delay_avg_fr = np.mean(fr[(tt >= -1.2)*(tt < 0.) == 1], axis = 0)\n",
    "\n",
    "print(delay_avg_fr.shape)"
   ]
  },
  {
   "cell_type": "code",
   "execution_count": 56,
   "metadata": {},
   "outputs": [
    {
     "data": {
      "text/plain": [
       "(87, 3)"
      ]
     },
     "execution_count": 56,
     "metadata": {},
     "output_type": "execute_result"
    }
   ],
   "source": [
    "ephys_data['ccf_coordinate'].shape"
   ]
  },
  {
   "cell_type": "code",
   "execution_count": 42,
   "metadata": {},
   "outputs": [
    {
     "data": {
      "text/plain": [
       "dict_keys(['uids', 'trial_inds', 'trial_labels'])"
      ]
     },
     "execution_count": 42,
     "metadata": {},
     "output_type": "execute_result"
    }
   ],
   "source": [
    "trial_type_label_data[sess_name].keys()"
   ]
  },
  {
   "cell_type": "code",
   "execution_count": 43,
   "metadata": {},
   "outputs": [],
   "source": [
    "aligned_fr = delay_avg_fr[trial_type_label_data[sess_name]['trial_inds']]"
   ]
  },
  {
   "cell_type": "code",
   "execution_count": 50,
   "metadata": {},
   "outputs": [],
   "source": [
    "# trial_type \n",
    "\n",
    "trial_type_auc_test = np.zeros(aligned_fr.shape[1])\n",
    "trial_type_auc_train = np.zeros(aligned_fr.shape[1])\n",
    "\n",
    "for l in [0,1]:\n",
    "    test_auc, train_auc = calculate_multi_neuron_auc(aligned_fr, trial_type_label_data[sess_name]['trial_labels'][(0,l)], trial_type_label_data[sess_name]['trial_labels'][(1,l)])\n",
    "    trial_type_auc_test += test_auc/2\n",
    "    trial_type_auc_train += train_auc/2\n",
    "\n",
    "# motor_type\n",
    "\n",
    "motor_type_auc_test = np.zeros(aligned_fr.shape[1])\n",
    "motor_type_auc_train = np.zeros(aligned_fr.shape[1])\n",
    "\n",
    "for l in [0,1]:\n",
    "    test_auc, train_auc = calculate_multi_neuron_auc(aligned_fr, trial_type_label_data[sess_name]['trial_labels'][(l,0)], trial_type_label_data[sess_name]['trial_labels'][(l,1)])\n",
    "    motor_type_auc_test += test_auc/2\n",
    "    motor_type_auc_train += train_auc/2\n",
    "\n",
    "\n",
    "\n"
   ]
  },
  {
   "cell_type": "code",
   "execution_count": 51,
   "metadata": {},
   "outputs": [
    {
     "data": {
      "text/plain": [
       "(0, 1)"
      ]
     },
     "execution_count": 51,
     "metadata": {},
     "output_type": "execute_result"
    },
    {
     "data": {
      "image/png": "[encoded data removed]",
      "text/plain": [
       "<Figure size 432x288 with 1 Axes>"
      ]
     },
     "metadata": {
      "needs_background": "light"
     },
     "output_type": "display_data"
    }
   ],
   "source": [
    "plt.plot(trial_type_auc_train,motor_type_auc_train, 'co')\n",
    "plt.plot(trial_type_auc_test,motor_type_auc_test, 'bo')\n",
    "plt.xlim([0,1])\n",
    "plt.ylim([0,1])"
   ]
  },
  {
   "cell_type": "code",
   "execution_count": 52,
   "metadata": {},
   "outputs": [],
   "source": [
    "# trial_type \n",
    "\n",
    "cf_trial_type_auc_test = np.zeros(aligned_fr.shape[1])\n",
    "cf_trial_type_auc_train = np.zeros(aligned_fr.shape[1])\n",
    "\n",
    "for l in [0,1]:\n",
    "    test_auc, train_auc = calculate_multi_neuron_auc(aligned_fr, trial_type_label_data[sess_name]['trial_labels'][(0,l)], trial_type_label_data[sess_name]['trial_labels'][(1,l)], concat_folds = True)\n",
    "    cf_trial_type_auc_test += test_auc/2\n",
    "    cf_trial_type_auc_train += train_auc/2\n",
    "\n",
    "# motor_type\n",
    "\n",
    "cf_motor_type_auc_test = np.zeros(aligned_fr.shape[1])\n",
    "cf_motor_type_auc_train = np.zeros(aligned_fr.shape[1])\n",
    "\n",
    "for l in [0,1]:\n",
    "    test_auc, train_auc = calculate_multi_neuron_auc(aligned_fr, trial_type_label_data[sess_name]['trial_labels'][(l,0)], trial_type_label_data[sess_name]['trial_labels'][(l,1)], concat_folds = True)\n",
    "    cf_motor_type_auc_test += test_auc/2\n",
    "    cf_motor_type_auc_train += train_auc/2\n",
    "\n",
    "\n",
    "\n"
   ]
  },
  {
   "cell_type": "code",
   "execution_count": 53,
   "metadata": {},
   "outputs": [
    {
     "data": {
      "text/plain": [
       "[<matplotlib.lines.Line2D at 0x7fe7440987f0>]"
      ]
     },
     "execution_count": 53,
     "metadata": {},
     "output_type": "execute_result"
    },
    {
     "data": {
      "image/png": "[encoded data removed]",
      "text/plain": [
       "<Figure size 1440x360 with 4 Axes>"
      ]
     },
     "metadata": {
      "needs_background": "light"
     },
     "output_type": "display_data"
    }
   ],
   "source": [
    "plt.subplots(1,4 ,figsize = (20,5))\n",
    "plt.subplot(1,4,1)\n",
    "plt.plot(trial_type_auc_train,cf_trial_type_auc_train, 'co')\n",
    "\n",
    "plt.subplot(1,4,2)\n",
    "plt.plot(trial_type_auc_test,cf_trial_type_auc_test, 'bo')\n",
    "\n",
    "plt.subplot(1,4,3)\n",
    "plt.plot(motor_type_auc_train,cf_motor_type_auc_train, 'co')\n",
    "\n",
    "plt.subplot(1,4,4)\n",
    "plt.plot(motor_type_auc_test,cf_motor_type_auc_test, 'bo')"
   ]
  },
  {
   "cell_type": "code",
   "execution_count": 54,
   "metadata": {},
   "outputs": [
    {
     "data": {
      "text/plain": [
       "['SC035_20200108_34_5_5_0_embedding.pkl',\n",
       " 'SC043_20200924_26_train_test_split_inds.pickle',\n",
       " 'SC035_20200108_34_fold_trial_inds.pickle',\n",
       " 'r2_data_dict_marker_smallwindow_subtract_pertimeavg.pkl',\n",
       " 'r2_scores_SC035_20200108_34_5_1_0.pkl',\n",
       " 'trial_type_labels.pickle',\n",
       " 'session_label_match.csv',\n",
       " 'ccf_coords_with_annotations.csv',\n",
       " 'neuron_number_dict.pickle',\n",
       " 'mousebrainontology_2.csv',\n",
       " 'single_example_neuron_data.pkl',\n",
       " 'pred_new.tar',\n",
       " 'ALM.png',\n",
       " 'SC035_010820-589-25000-a2-rightMedulla.pickle',\n",
       " 'area2anno.json',\n",
       " 'Annotation_new_10_ds222_32bit.tif',\n",
       " 'noisy_ccf_labels_coords.pkl',\n",
       " 'pred.tar',\n",
       " 'r2_data_dict_smallwindows_v3.pkl',\n",
       " 'nn_and_shuffle_r2_thalamus_subnuclei.pkl',\n",
       " 'r2_data_dict_expanded_smallwindow_subtract_pertimeavg.pkl',\n",
       " 'Annotation_new_10_ds222_16bit.tif',\n",
       " 'ccf_data_maybe',\n",
       " 'cal4cat-delay.pickle',\n",
       " 'auc_analysis.pickle',\n",
       " 'ccf_dict_for_fig6.pickle',\n",
       " 'AllenRefVolCoronal_10_ds222.tif',\n",
       " 'r2_scores_SC035_20200110_36_5_1_0.pkl',\n",
       " '576_ant_res=20um_PTITtract_masked.tif',\n",
       " 'mousebrainontology_heirarchy_cortexMaskExclusions21_sc.xlsx',\n",
       " 'pred2.tar',\n",
       " 'SC035_20200108_34_train_test_split_inds.pickle',\n",
       " 'SC035_20200108_34_5_5_0_marker.pkl',\n",
       " 'final']"
      ]
     },
     "execution_count": 54,
     "metadata": {},
     "output_type": "execute_result"
    }
   ],
   "source": [
    "os.listdir('../data/')"
   ]
  },
  {
   "cell_type": "code",
   "execution_count": 4,
   "metadata": {},
   "outputs": [],
   "source": [
    "filename = '../data/auc_delay_data.pickle'\n",
    "\n",
    "auc_delay_data = pickle.load(open(filename, 'rb'))"
   ]
  },
  {
   "cell_type": "code",
   "execution_count": 5,
   "metadata": {},
   "outputs": [
    {
     "data": {
      "text/plain": [
       "dict_keys(['motor_type_auc_test', 'motor_type_auc_train', 'trial_type_auc_test', 'trial_type_auc_train', 'ccf_unit_ids', 'ccf_labels', 'ccf_coords', 'session_names'])"
      ]
     },
     "execution_count": 5,
     "metadata": {},
     "output_type": "execute_result"
    }
   ],
   "source": [
    "auc_delay_data.keys()"
   ]
  },
  {
   "cell_type": "code",
   "execution_count": 6,
   "metadata": {},
   "outputs": [
    {
     "data": {
      "text/plain": [
       "(34196,)"
      ]
     },
     "execution_count": 6,
     "metadata": {},
     "output_type": "execute_result"
    }
   ],
   "source": [
    "auc_delay_data['motor_type_auc_test'].shape "
   ]
  },
  {
   "cell_type": "code",
   "execution_count": 19,
   "metadata": {},
   "outputs": [
    {
     "data": {
      "image/png": "[encoded data removed]",
      "text/plain": [
       "<Figure size 432x432 with 1 Axes>"
      ]
     },
     "metadata": {
      "needs_background": "light"
     },
     "output_type": "display_data"
    }
   ],
   "source": [
    "cutoff = 0.65\n",
    "motor_mask = np.logical_and(auc_delay_data['motor_type_auc_test'] >= cutoff, auc_delay_data['trial_type_auc_test'] < cutoff)\n",
    "trial_mask = np.logical_and(auc_delay_data['trial_type_auc_test'] >= cutoff, auc_delay_data['motor_type_auc_test'] < cutoff)\n",
    "both_mask = np.logical_and(auc_delay_data['trial_type_auc_test'] >= cutoff, auc_delay_data['motor_type_auc_test'] >= cutoff)\n",
    "none_mask = np.logical_and(auc_delay_data['trial_type_auc_test'] < cutoff, auc_delay_data['motor_type_auc_test'] < cutoff)\n",
    "\n",
    "masks = [none_mask, motor_mask, trial_mask, both_mask]\n",
    "names = ['none', 'motor', 'trial', 'both']\n",
    "colors = ['c', 'g', 'b', 'k']\n",
    "\n",
    "plt.figure(figsize = (6,6))\n",
    "\n",
    "plt.title('Motor and trial type auc for all neurons, cutoff = %.2f'%cutoff)\n",
    "plt.xlabel('Trial type auc')\n",
    "plt.ylabel('Motor type auc')\n",
    "\n",
    "for i, _mask in enumerate(masks):\n",
    "    plt.plot(auc_delay_data['trial_type_auc_test'][_mask],auc_delay_data['motor_type_auc_test'][_mask], 'o', color = colors[i], label = '%s, %d'%(names[i], np.sum(_mask)), alpha = 0.4)\n",
    "    plt.legend()\n",
    "\n",
    "plt.xlim(-0.05,1.05)\n",
    "plt.ylim(-0.05,1.05)\n",
    "\n",
    "plt.savefig('../figs/fig6/new_motor_trial_type_auc.png', dpi = 300)"
   ]
  },
  {
   "cell_type": "code",
   "execution_count": null,
   "metadata": {},
   "outputs": [],
   "source": []
  }
 ],
 "metadata": {
  "kernelspec": {
   "display_name": "Python 3",
   "language": "python",
   "name": "python3"
  },
  "language_info": {
   "codemirror_mode": {
    "name": "ipython",
    "version": 3
   },
   "file_extension": ".py",
   "mimetype": "text/x-python",
   "name": "python",
   "nbconvert_exporter": "python",
   "pygments_lexer": "ipython3",
   "version": "3.8.10"
  }
 },
 "nbformat": 4,
 "nbformat_minor": 2
}
